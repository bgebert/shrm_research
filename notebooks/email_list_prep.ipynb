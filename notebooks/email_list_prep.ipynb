{
 "cells": [
  {
   "cell_type": "markdown",
   "metadata": {},
   "source": [
    "# Load libraries"
   ]
  },
  {
   "cell_type": "code",
   "execution_count": 13,
   "metadata": {},
   "outputs": [
    {
     "name": "stdout",
     "output_type": "stream",
     "text": [
      "Notebook initialized.\n"
     ]
    }
   ],
   "source": [
    "import os\n",
    "import numpy as np\n",
    "import pandas as pd\n",
    "\n",
    "from pandas.api.types import is_string_dtype\n",
    "from pandas.api.types import is_numeric_dtype\n",
    "\n",
    "from ipywidgets import *\n",
    "from IPython.display import clear_output, display\n",
    "from IPython.core.display import display, HTML\n",
    "from IPython.core.interactiveshell import InteractiveShell\n",
    "InteractiveShell.ast_node_interactivity = \"all\"\n",
    "\n",
    "import warnings\n",
    "warnings.filterwarnings(\"ignore\")\n",
    "warnings.simplefilter(action='ignore', category=FutureWarning)\n",
    "\n",
    "import qgrid\n",
    "\n",
    "import helpers.research_helpers as app\n",
    "\n",
    "CSV_SEPARATOR = ','     # '\\t'\n",
    "\n",
    "print('Notebook initialized.')"
   ]
  },
  {
   "cell_type": "markdown",
   "metadata": {},
   "source": [
    "# Load data"
   ]
  },
  {
   "cell_type": "code",
   "execution_count": 2,
   "metadata": {
    "code_folding": []
   },
   "outputs": [],
   "source": [
    "### Load membership list\n",
    "\n",
    "df_all_active_roster = app.load_csv('../data/All Active Roster.csv')"
   ]
  },
  {
   "cell_type": "markdown",
   "metadata": {
    "heading_collapsed": true
   },
   "source": [
    "# Filter by... membership_items"
   ]
  },
  {
   "cell_type": "code",
   "execution_count": 3,
   "metadata": {
    "hidden": true
   },
   "outputs": [
    {
     "data": {
      "text/html": [
       "<h1>Important:</h1></br><b>Please examine the list below and check/uncheck any record types you do not wish to use.</br></br>NOTE: </b><span>The default list has already been pre-selected.</span>"
      ],
      "text/plain": [
       "<IPython.core.display.HTML object>"
      ]
     },
     "metadata": {},
     "output_type": "display_data"
    },
    {
     "data": {
      "application/vnd.jupyter.widget-view+json": {
       "model_id": "b809cb505d79490086ea9ef3e07f1048",
       "version_major": 2,
       "version_minor": 0
      },
      "text/plain": [
       "QgridWidget(grid_options={'fullWidthRows': True, 'syncColumnCellResize': True, 'forceFitColumns': True, 'defau…"
      ]
     },
     "metadata": {},
     "output_type": "display_data"
    }
   ],
   "source": [
    "### Please select those membership_items you would like to keep.\n",
    "### The default list (keep_records.KEEP_LIST_MEMBERSHIP_ITEMS) is already selected.\n",
    "\n",
    "# Allow user's to select which membership_item groups, if any, they want to exclude\n",
    "qgrid_sheet_to_keep = app.keep_grid_show_filter(df_all_active_roster, app.COL_MEMBERSHIP_ITEM, app.COL_MEMBER_ID, app.KEEP_LIST_MEMBERSHIP_ITEMS)\n",
    "qgrid_sheet_to_keep"
   ]
  },
  {
   "cell_type": "markdown",
   "metadata": {
    "heading_collapsed": true,
    "hidden": true
   },
   "source": [
    "## Apply changes"
   ]
  },
  {
   "cell_type": "code",
   "execution_count": 4,
   "metadata": {
    "hidden": true
   },
   "outputs": [
    {
     "name": "stdout",
     "output_type": "stream",
     "text": [
      "The filter was successfully applied to the data frame.\n",
      "There are 275490 out of 302352 email addresses available for use.\n"
     ]
    }
   ],
   "source": [
    "### Apply filtering\n",
    "\n",
    "# To just get the dataframe returned by qgrid_sheet_to_keep, just run the next 2 lines s\n",
    "#df_filter_by = qgrid_sheet_to_keep.get_changed_df()\n",
    "#df_filter_by.head(40)\n",
    "\n",
    "df_filtered_list = app.keep_grid_apply_filter(qgrid_sheet_to_keep, app.COL_MEMBERSHIP_ITEM, df_all_active_roster)"
   ]
  },
  {
   "cell_type": "markdown",
   "metadata": {
    "heading_collapsed": true
   },
   "source": [
    "# Filter by... membership expiration date range"
   ]
  },
  {
   "cell_type": "code",
   "execution_count": 5,
   "metadata": {
    "hidden": true
   },
   "outputs": [
    {
     "name": "stdout",
     "output_type": "stream",
     "text": [
      "Assigned expiration range.\n"
     ]
    },
    {
     "data": {
      "text/html": [
       "<h1>Important:</h1></br><b>Please examine the list below and check/uncheck any record types you do not wish to use.</br></br>NOTE: </b><span>The default list has already been pre-selected.</span>"
      ],
      "text/plain": [
       "<IPython.core.display.HTML object>"
      ]
     },
     "metadata": {},
     "output_type": "display_data"
    },
    {
     "data": {
      "application/vnd.jupyter.widget-view+json": {
       "model_id": "34561cec8b5e460ca3893346949e6070",
       "version_major": 2,
       "version_minor": 0
      },
      "text/plain": [
       "QgridWidget(grid_options={'fullWidthRows': True, 'syncColumnCellResize': True, 'forceFitColumns': True, 'defau…"
      ]
     },
     "metadata": {},
     "output_type": "display_data"
    }
   ],
   "source": [
    "### Please select those expiration groups you would like to keep.\n",
    "### The default list (keep_records.KEEP_LIST_EXPIRES_IN) is already selected.\n",
    "\n",
    "### Calculate Expiration Range based off of EXPIRY_DATE and store in EXPIRY_RANGE_CALCULATED\n",
    "df_filtered_list = app.assign_expiration_range(df_filtered_list)\n",
    "\n",
    "# Allow user's to select which expiration groups, if any, they want to exclude\n",
    "qgrid_sheet_to_keep = app.keep_grid_show_filter(df_filtered_list, app.COL_EXPIRY_RANGE_CALCULATED, app.COL_MEMBER_ID, app.KEEP_LIST_EXPIRES_IN)\n",
    "qgrid_sheet_to_keep"
   ]
  },
  {
   "cell_type": "markdown",
   "metadata": {
    "heading_collapsed": true,
    "hidden": true
   },
   "source": [
    "## Apply changes"
   ]
  },
  {
   "cell_type": "code",
   "execution_count": 6,
   "metadata": {
    "hidden": true
   },
   "outputs": [
    {
     "name": "stdout",
     "output_type": "stream",
     "text": [
      "The filter was successfully applied to the data frame.\n",
      "There are 178009 out of 275490 email addresses available for use.\n"
     ]
    }
   ],
   "source": [
    "### Apply filtering\n",
    "\n",
    "# To just get the dataframe returned by qgrid_sheet_to_keep, just run the next 2 lines s\n",
    "#df_filter_by = qgrid_sheet_to_keep.get_changed_df()\n",
    "#df_filter_by.head(40)\n",
    "\n",
    "df_filtered_list = app.keep_grid_apply_filter(qgrid_sheet_to_keep, app.COL_EXPIRY_RANGE_CALCULATED, df_filtered_list)"
   ]
  },
  {
   "cell_type": "markdown",
   "metadata": {
    "heading_collapsed": true
   },
   "source": [
    "# Calculate... Manager/Worker"
   ]
  },
  {
   "cell_type": "code",
   "execution_count": 7,
   "metadata": {
    "hidden": true
   },
   "outputs": [
    {
     "name": "stdout",
     "output_type": "stream",
     "text": [
      "Assigned Titles.\n"
     ]
    },
    {
     "data": {
      "application/vnd.jupyter.widget-view+json": {
       "model_id": "ceb7b78dfd5e4ad4a280f67dd4c77224",
       "version_major": 2,
       "version_minor": 0
      },
      "text/plain": [
       "QgridWidget(grid_options={'fullWidthRows': True, 'syncColumnCellResize': True, 'forceFitColumns': True, 'defau…"
      ]
     },
     "metadata": {},
     "output_type": "display_data"
    }
   ],
   "source": [
    "### Calculate Title based off of JOB_TITLE, BOSS_TITLE, and NUM_OVERSEEN and store in TITLE_CALCULATED\n",
    "df_filtered_list = app.assign_title(df_filtered_list)\n",
    "\n",
    "df_test = df_filtered_list.filter([app.COL_JOB_TITLE, app.COL_BOSS_TITLE, app.COL_NUM_OVERSEEN, app.COL_TITLE_CALCULATED])\n",
    "qgrid_widget = qgrid.show_grid(df_test, show_toolbar=False)\n",
    "qgrid_widget"
   ]
  },
  {
   "cell_type": "markdown",
   "metadata": {
    "heading_collapsed": true
   },
   "source": [
    "# Calculate... Pub/Private Sector"
   ]
  },
  {
   "cell_type": "code",
   "execution_count": 8,
   "metadata": {
    "hidden": true
   },
   "outputs": [
    {
     "name": "stdout",
     "output_type": "stream",
     "text": [
      "Assigned Pub/Private Sector.\n"
     ]
    },
    {
     "data": {
      "application/vnd.jupyter.widget-view+json": {
       "model_id": "acf6b2cd209245a5b55f406544806a3d",
       "version_major": 2,
       "version_minor": 0
      },
      "text/plain": [
       "QgridWidget(grid_options={'fullWidthRows': True, 'syncColumnCellResize': True, 'forceFitColumns': True, 'defau…"
      ]
     },
     "metadata": {},
     "output_type": "display_data"
    }
   ],
   "source": [
    "### Calculate Pub/Private Sector based off of ORG_TYPE, INDUSTRY, and EMAIL_DOMAIN and store in PUB_PRIVATE_CALCULATED\n",
    "df_filtered_list = app.assign_pub_private_sector(df_filtered_list)\n",
    "\n",
    "df_test = df_filtered_list.filter([app.COL_ORG_TYPE, app.COL_INDUSTRY, app.COL_EMAIL_DOMAIN, app.COL_PUB_PRIVATE_CALCULATED])\n",
    "qgrid_widget = qgrid.show_grid(df_test, show_toolbar=False)\n",
    "qgrid_widget"
   ]
  },
  {
   "cell_type": "code",
   "execution_count": 10,
   "metadata": {
    "hidden": true
   },
   "outputs": [
    {
     "data": {
      "text/html": [
       "<h1>Important:</h1></br><b>Please examine the list below and check/uncheck any record types you do not wish to use.</br></br>NOTE: </b><span>The default list has already been pre-selected.</span>"
      ],
      "text/plain": [
       "<IPython.core.display.HTML object>"
      ]
     },
     "metadata": {},
     "output_type": "display_data"
    },
    {
     "data": {
      "application/vnd.jupyter.widget-view+json": {
       "model_id": "051eaf4f18094ec4bbd528a22bf4fb9b",
       "version_major": 2,
       "version_minor": 0
      },
      "text/plain": [
       "QgridWidget(grid_options={'fullWidthRows': True, 'syncColumnCellResize': True, 'forceFitColumns': True, 'defau…"
      ]
     },
     "metadata": {},
     "output_type": "display_data"
    }
   ],
   "source": [
    "#df_filtered_list[app.COL_JOB_TITLE] = df_filtered_list[app.COL_JOB_TITLE].fillna('')\n",
    "\n",
    "qgrid_sheet_to_keep = app.keep_grid_show_filter(df_filtered_list, app.COL_JOB_TITLE, app.COL_MEMBER_ID, app.KEEP_LIST_JOB_TITLES)\n",
    "qgrid_sheet_to_keep"
   ]
  },
  {
   "cell_type": "markdown",
   "metadata": {
    "heading_collapsed": true
   },
   "source": [
    "# Filter by... job_title"
   ]
  },
  {
   "cell_type": "markdown",
   "metadata": {
    "hidden": true
   },
   "source": [
    "## Apply changes"
   ]
  },
  {
   "cell_type": "code",
   "execution_count": 11,
   "metadata": {
    "hidden": true
   },
   "outputs": [
    {
     "name": "stdout",
     "output_type": "stream",
     "text": [
      "The filter was successfully applied to the data frame.\n",
      "There are 170656 out of 178009 email addresses available for use.\n"
     ]
    }
   ],
   "source": [
    "### Apply filtering\n",
    "\n",
    "# To just get the dataframe returned by qgrid_sheet_to_keep, just run the next 2 lines s\n",
    "#df_filter_by = qgrid_sheet_to_keep.get_changed_df()\n",
    "#df_filter_by.head(40)\n",
    "\n",
    "df_filtered_list = app.keep_grid_apply_filter(qgrid_sheet_to_keep, app.COL_JOB_TITLE, df_filtered_list)"
   ]
  },
  {
   "cell_type": "markdown",
   "metadata": {},
   "source": [
    "# Filter by... Survey Recency"
   ]
  },
  {
   "cell_type": "code",
   "execution_count": null,
   "metadata": {},
   "outputs": [],
   "source": []
  },
  {
   "cell_type": "markdown",
   "metadata": {},
   "source": [
    "## Apply changes"
   ]
  },
  {
   "cell_type": "code",
   "execution_count": null,
   "metadata": {},
   "outputs": [],
   "source": []
  },
  {
   "cell_type": "markdown",
   "metadata": {},
   "source": [
    "# Save Output"
   ]
  },
  {
   "cell_type": "code",
   "execution_count": 18,
   "metadata": {},
   "outputs": [
    {
     "data": {
      "application/vnd.jupyter.widget-view+json": {
       "model_id": "3a29aaf6f67a4eebbaa03b2192a06072",
       "version_major": 2,
       "version_minor": 0
      },
      "text/plain": [
       "Label(value='Project Name: ')"
      ]
     },
     "metadata": {},
     "output_type": "display_data"
    },
    {
     "data": {
      "application/vnd.jupyter.widget-view+json": {
       "model_id": "0f2b45a4ff7f49d1b9533ff76810d89b",
       "version_major": 2,
       "version_minor": 0
      },
      "text/plain": [
       "Text(value='')"
      ]
     },
     "metadata": {},
     "output_type": "display_data"
    }
   ],
   "source": [
    "### Add code to save project and data files to a directory of the user's choosing\n",
    "project_name_lbl = widgets.Label('Project Name: ')\n",
    "project_name_txt = widgets.Text()\n",
    "display(project_name_lbl)\n",
    "display(project_name_txt)"
   ]
  },
  {
   "cell_type": "code",
   "execution_count": 22,
   "metadata": {},
   "outputs": [
    {
     "data": {
      "application/vnd.jupyter.widget-view+json": {
       "model_id": "dbfdf26ab1f84a4c9423944554168956",
       "version_major": 2,
       "version_minor": 0
      },
      "text/plain": [
       "Label(value=\"Your data will be saved to ../s_drive/Brad's Test Project/\")"
      ]
     },
     "metadata": {},
     "output_type": "display_data"
    }
   ],
   "source": [
    "project_name_results_lbl = widgets.Label()\n",
    "project_name_results_lbl.value = 'Your data will be saved to ../s_drive/' + project_name_txt.value + '/'\n",
    "display(project_name_results_lbl)"
   ]
  },
  {
   "cell_type": "code",
   "execution_count": null,
   "metadata": {},
   "outputs": [],
   "source": []
  }
 ],
 "metadata": {
  "kernelspec": {
   "display_name": "Python 3",
   "language": "python",
   "name": "python3"
  },
  "language_info": {
   "codemirror_mode": {
    "name": "ipython",
    "version": 3
   },
   "file_extension": ".py",
   "mimetype": "text/x-python",
   "name": "python",
   "nbconvert_exporter": "python",
   "pygments_lexer": "ipython3",
   "version": "3.8.8"
  },
  "metadata": {
   "interpreter": {
    "hash": "ce33b26b0e7fb783383ae7d7b1929cd81c90a4db73d3f1d9be825a6a4cd92aef"
   }
  },
  "toc": {
   "base_numbering": 1,
   "nav_menu": {},
   "number_sections": true,
   "sideBar": true,
   "skip_h1_title": false,
   "title_cell": "Table of Contents",
   "title_sidebar": "Contents",
   "toc_cell": false,
   "toc_position": {},
   "toc_section_display": true,
   "toc_window_display": true
  }
 },
 "nbformat": 4,
 "nbformat_minor": 4
}
