{
 "cells": [
  {
   "cell_type": "markdown",
   "metadata": {
    "heading_collapsed": true
   },
   "source": [
    "# Load libraries"
   ]
  },
  {
   "cell_type": "code",
   "execution_count": 1,
   "metadata": {
    "code_folding": [
     0
    ],
    "hidden": true
   },
   "outputs": [
    {
     "name": "stdout",
     "output_type": "stream",
     "text": [
      "Notebook initialized.\n"
     ]
    }
   ],
   "source": [
    "### Load libraries \n",
    "import os\n",
    "import numpy as np\n",
    "import pandas as pd\n",
    "\n",
    "from pandas.api.types import is_string_dtype\n",
    "from pandas.api.types import is_numeric_dtype\n",
    "\n",
    "from ipywidgets import *\n",
    "from IPython.display import clear_output, display\n",
    "from IPython.core.display import display, HTML\n",
    "from IPython.core.interactiveshell import InteractiveShell\n",
    "InteractiveShell.ast_node_interactivity = \"all\"\n",
    "\n",
    "import warnings\n",
    "warnings.filterwarnings(\"ignore\")\n",
    "warnings.simplefilter(action='ignore', category=FutureWarning)\n",
    "\n",
    "import qgrid\n",
    "from traitlets import All\n",
    "\n",
    "import helpers.research_helpers as app\n",
    "\n",
    "CSV_SEPARATOR = ','     # '\\t'\n",
    "\n",
    "print('Notebook initialized.')"
   ]
  },
  {
   "cell_type": "markdown",
   "metadata": {
    "heading_collapsed": true
   },
   "source": [
    "# Load data"
   ]
  },
  {
   "cell_type": "code",
   "execution_count": 2,
   "metadata": {
    "code_folding": [
     0
    ],
    "hidden": true
   },
   "outputs": [
    {
     "name": "stdout",
     "output_type": "stream",
     "text": [
      "302352 records loaded from ../sampling/All Active Roster.csv\n"
     ]
    }
   ],
   "source": [
    "### Load membership list from '../sampling/All Active Roster.csv' \n",
    "\n",
    "df_complete_list = app.load_csv(app.FLDR_SAMPLING + '/All Active Roster.csv')\n",
    "print(str(len(df_complete_list)) + ' records loaded from ' + app.FLDR_SAMPLING + '/All Active Roster.csv')"
   ]
  },
  {
   "cell_type": "markdown",
   "metadata": {
    "heading_collapsed": true
   },
   "source": [
    "# Calculate... manager/worker"
   ]
  },
  {
   "cell_type": "code",
   "execution_count": 3,
   "metadata": {
    "code_folding": [
     0
    ],
    "hidden": true
   },
   "outputs": [
    {
     "name": "stdout",
     "output_type": "stream",
     "text": [
      "Assigned Manager/Worker Title.\n"
     ]
    }
   ],
   "source": [
    "### Calculate Title based off of JOB_TITLE, BOSS_TITLE, and NUM_OVERSEEN and store in TITLE_CALCULATED \n",
    "\n",
    "df_complete_list = app.assign_title(df_complete_list)\n",
    "\n",
    "#print('The grid below is meant as informational purposes only.')\n",
    "#df_test = df_filtered_list.filter([app.COL_JOB_TITLE, app.COL_BOSS_TITLE, app.COL_NUM_OVERSEEN, app.COL_TITLE_CALCULATED])\n",
    "#qgrid_widget = qgrid.show_grid(df_test, show_toolbar=False)\n",
    "#qgrid_widget"
   ]
  },
  {
   "cell_type": "markdown",
   "metadata": {},
   "source": [
    "# Calculate... pub/private sector"
   ]
  },
  {
   "cell_type": "code",
   "execution_count": 4,
   "metadata": {
    "code_folding": [
     0
    ]
   },
   "outputs": [
    {
     "name": "stdout",
     "output_type": "stream",
     "text": [
      "Assigned Pub/Private Sector.\n"
     ]
    }
   ],
   "source": [
    "### Calculate Pub/Private based off of ORG_TYPE, INDUSTRY, and EMAIL_DOMAIN and store in PUB_PRIVATE_CALCULATED \n",
    "\n",
    "df_complete_list = app.assign_pub_private_sector(df_complete_list)\n",
    "\n",
    "#print('The grid below is meant as informational purposes only.')\n",
    "#df_test = df_filtered_list.filter([app.COL_ORG_TYPE, app.COL_INDUSTRY, app.COL_EMAIL_DOMAIN, app.COL_PUB_PRIVATE_CALCULATED])\n",
    "#qgrid_widget = qgrid.show_grid(df_test, show_toolbar=False)\n",
    "#qgrid_widget"
   ]
  },
  {
   "cell_type": "markdown",
   "metadata": {},
   "source": [
    "# Calculate... expiration date range"
   ]
  },
  {
   "cell_type": "code",
   "execution_count": 5,
   "metadata": {
    "code_folding": [
     0
    ]
   },
   "outputs": [
    {
     "name": "stdout",
     "output_type": "stream",
     "text": [
      "Assigned expiration range.\n"
     ]
    }
   ],
   "source": [
    "### Calculate Expiration Range based off of EXPIRY_DATE and store in EXPIRY_RANGE_CALCULATED \n",
    "\n",
    "df_complete_list = app.assign_expiration_range(df_complete_list)\n",
    "\n",
    "#print('The grid below is meant as informational purposes only.')\n",
    "#df_test = df_filtered_list.filter([app.COL_ORG_TYPE, app.COL_INDUSTRY, app.COL_EMAIL_DOMAIN, app.COL_PUB_PRIVATE_CALCULATED])\n",
    "#qgrid_widget = qgrid.show_grid(df_test, show_toolbar=False)\n",
    "#qgrid_widget"
   ]
  },
  {
   "cell_type": "markdown",
   "metadata": {},
   "source": [
    "# Filter by... membership_items"
   ]
  },
  {
   "cell_type": "code",
   "execution_count": 6,
   "metadata": {
    "code_folding": []
   },
   "outputs": [
    {
     "data": {
      "text/html": [
       "<h1>Important:</h1></br><b>Please examine the list below and check/uncheck any record types you do not wish to use.</br></br>NOTE: </b><span>The default list has already been pre-selected.</span>"
      ],
      "text/plain": [
       "<IPython.core.display.HTML object>"
      ]
     },
     "metadata": {},
     "output_type": "display_data"
    },
    {
     "data": {
      "application/vnd.jupyter.widget-view+json": {
       "model_id": "f5e22e7e86a24a4a8ed819e3fff27d95",
       "version_major": 2,
       "version_minor": 0
      },
      "text/plain": [
       "VBox(children=(HBox(children=(HTML(value='<h3>Your possible record count is <b><u>275490</u></b> out of <u>302…"
      ]
     },
     "metadata": {},
     "output_type": "display_data"
    }
   ],
   "source": [
    "### Please select those membership_items you would like to keep. \n",
    "# The default list (keep_records.KEEP_LIST_MEMBERSHIP_ITEMS) is already selected.\n",
    "\n",
    "qgrid_membership_item = app.keep_grid_show_filter(df_complete_list, app.COL_MEMBERSHIP_ITEM, app.COL_MEMBER_ID, app.KEEP_LIST_MEMBERSHIP_ITEMS)"
   ]
  },
  {
   "cell_type": "markdown",
   "metadata": {},
   "source": [
    "## Apply Changes"
   ]
  },
  {
   "cell_type": "code",
   "execution_count": null,
   "metadata": {
    "code_folding": [
     0
    ]
   },
   "outputs": [],
   "source": [
    "### Apply filtering \n",
    "#\n",
    "#To just get the dataframe returned by qgrid_sheet_to_keep, just run the next 2 lines s\n",
    "#df_filter_by = qgrid_sheet_to_keep.get_changed_df()\n",
    "#df_filter_by.head(40)\n",
    "\n",
    "df_filtered_membership_item, app.KEEP_LIST_MEMBERSHIP_ITEMS = app.keep_grid_apply_filter(qgrid_membership_item, app.COL_MEMBERSHIP_ITEM, df_complete_list, True)"
   ]
  },
  {
   "cell_type": "markdown",
   "metadata": {
    "heading_collapsed": true
   },
   "source": [
    "# Filter by... membership expiration date range"
   ]
  },
  {
   "cell_type": "code",
   "execution_count": null,
   "metadata": {
    "code_folding": [
     0
    ],
    "hidden": true
   },
   "outputs": [],
   "source": [
    "### Please select those expiration groups you would like to keep. \n",
    "## The default list (keep_records.KEEP_LIST_EXPIRES_IN) is already selected.\n",
    "\n",
    "# Allow user's to select which expiration groups, if any, they want to exclude\n",
    "qgrid_exp_date_range = app.keep_grid_show_filter(df_filtered_membership_item, app.COL_EXPIRY_RANGE_CALCULATED, app.COL_MEMBER_ID, app.KEEP_LIST_EXPIRES_IN)\n",
    "#qgrid_sheet_to_keep"
   ]
  },
  {
   "cell_type": "markdown",
   "metadata": {
    "hidden": true
   },
   "source": [
    "## Apply changes"
   ]
  },
  {
   "cell_type": "code",
   "execution_count": null,
   "metadata": {
    "code_folding": [
     0
    ],
    "hidden": true
   },
   "outputs": [],
   "source": [
    "### Apply filtering \n",
    "#\n",
    "# To just get the dataframe returned by qgrid_sheet_to_keep, just run the next 2 lines s\n",
    "#df_filter_by = qgrid_sheet_to_keep.get_changed_df()\n",
    "#df_filter_by.head(40)\n",
    "\n",
    "df_filtered_exp_date_range, app.KEEP_LIST_EXPIRES_IN = app.keep_grid_apply_filter(qgrid_exp_date_range, app.COL_EXPIRY_RANGE_CALCULATED, df_filtered_membership_item, True)"
   ]
  },
  {
   "cell_type": "markdown",
   "metadata": {
    "heading_collapsed": true
   },
   "source": [
    "# Filter by... job_title"
   ]
  },
  {
   "cell_type": "code",
   "execution_count": null,
   "metadata": {
    "code_folding": [
     0
    ],
    "hidden": true
   },
   "outputs": [],
   "source": [
    "### Please select those job titles you would like to keep. \n",
    "\n",
    "qgrid_job_title = app.keep_grid_show_filter(df_filtered_exp_date_range, app.COL_JOB_TITLE, app.COL_MEMBER_ID, app.KEEP_LIST_JOB_TITLES)"
   ]
  },
  {
   "cell_type": "markdown",
   "metadata": {
    "heading_collapsed": true,
    "hidden": true
   },
   "source": [
    "## Apply changes"
   ]
  },
  {
   "cell_type": "code",
   "execution_count": null,
   "metadata": {
    "code_folding": [
     0
    ],
    "hidden": true
   },
   "outputs": [],
   "source": [
    "### Apply filtering \n",
    "\n",
    "# To just get the dataframe returned by qgrid_sheet_to_keep, just run the next 2 lines s\n",
    "#df_filter_by = qgrid_sheet_to_keep.get_changed_df()\n",
    "#df_filter_by.head(40)\n",
    "\n",
    "df_filtered_job_title, app.KEEP_LIST_JOB_TITLES = app.keep_grid_apply_filter(qgrid_job_title, app.COL_JOB_TITLE, df_filtered_exp_date_range, True)"
   ]
  },
  {
   "cell_type": "markdown",
   "metadata": {},
   "source": [
    "# Filter by... region "
   ]
  },
  {
   "cell_type": "code",
   "execution_count": null,
   "metadata": {},
   "outputs": [],
   "source": []
  },
  {
   "cell_type": "markdown",
   "metadata": {},
   "source": [
    "## Apply changes "
   ]
  },
  {
   "cell_type": "code",
   "execution_count": null,
   "metadata": {},
   "outputs": [],
   "source": []
  },
  {
   "cell_type": "markdown",
   "metadata": {},
   "source": [
    "# Filter by... survey recency"
   ]
  },
  {
   "cell_type": "code",
   "execution_count": null,
   "metadata": {},
   "outputs": [],
   "source": []
  },
  {
   "cell_type": "markdown",
   "metadata": {},
   "source": [
    "## Apply changes"
   ]
  },
  {
   "cell_type": "code",
   "execution_count": null,
   "metadata": {},
   "outputs": [],
   "source": []
  },
  {
   "cell_type": "markdown",
   "metadata": {},
   "source": [
    "# Save output"
   ]
  },
  {
   "cell_type": "markdown",
   "metadata": {},
   "source": [
    "## Get project/directory name"
   ]
  },
  {
   "cell_type": "code",
   "execution_count": 15,
   "metadata": {
    "code_folding": [
     0
    ]
   },
   "outputs": [
    {
     "data": {
      "application/vnd.jupyter.widget-view+json": {
       "model_id": "046fc7baf97f48e487938efb25bd761a",
       "version_major": 2,
       "version_minor": 0
      },
      "text/plain": [
       "Label(value='Project Name: ')"
      ]
     },
     "metadata": {},
     "output_type": "display_data"
    },
    {
     "data": {
      "application/vnd.jupyter.widget-view+json": {
       "model_id": "9963ffed4b1d41fa8d875a0af435d47b",
       "version_major": 2,
       "version_minor": 0
      },
      "text/plain": [
       "Text(value='')"
      ]
     },
     "metadata": {},
     "output_type": "display_data"
    }
   ],
   "source": [
    "### Add code to save project and data files to a directory of the user's choosing \n",
    "\n",
    "project_name_lbl = widgets.Label('Project Name: ')\n",
    "project_name_txt = widgets.Text()\n",
    "display(project_name_lbl)\n",
    "display(project_name_txt)"
   ]
  },
  {
   "cell_type": "code",
   "execution_count": null,
   "metadata": {
    "code_folding": [
     0
    ]
   },
   "outputs": [],
   "source": [
    "### Your data will be saved to... \n",
    "project_name_results_lbl = widgets.Label()\n",
    "project_name_results_lbl.value = 'Your data will be saved to ' + app.FLDR_SAMPLING + '/' + project_name_txt.value + '/'\n",
    "display(project_name_results_lbl)"
   ]
  },
  {
   "cell_type": "code",
   "execution_count": null,
   "metadata": {
    "code_folding": [
     0
    ]
   },
   "outputs": [],
   "source": [
    "### Create folder in ../s_drive_sampling/<project_name> \n",
    "\n",
    "new_abs_path = os.path.join(os.getcwd(), app.FLDR_SAMPLING, project_name_txt.value)\n",
    "\n",
    "if os.path.exists(new_abs_path):\n",
    "    print('The project name already exists.')\n",
    "    print('Either create a new project name by rerunning the \"Get project/directory name\" cells, or...')\n",
    "    print('Use the project name as is.  \\n\\nWarning - this may cause issues later!')\n",
    "else:\n",
    "    print('Created project folder in: \\n{}'.format(os.path.join(os.getcwd(), app.FLDR_SAMPLING, project_name_txt.value)))\n",
    "    os.mkdir(new_abs_path)"
   ]
  },
  {
   "cell_type": "markdown",
   "metadata": {},
   "source": [
    "## Save project files"
   ]
  },
  {
   "cell_type": "code",
   "execution_count": null,
   "metadata": {},
   "outputs": [],
   "source": []
  },
  {
   "cell_type": "code",
   "execution_count": null,
   "metadata": {},
   "outputs": [],
   "source": []
  },
  {
   "cell_type": "code",
   "execution_count": null,
   "metadata": {},
   "outputs": [],
   "source": []
  }
 ],
 "metadata": {
  "kernelspec": {
   "display_name": "Python 3",
   "language": "python",
   "name": "python3"
  },
  "language_info": {
   "codemirror_mode": {
    "name": "ipython",
    "version": 3
   },
   "file_extension": ".py",
   "mimetype": "text/x-python",
   "name": "python",
   "nbconvert_exporter": "python",
   "pygments_lexer": "ipython3",
   "version": "3.8.8"
  },
  "metadata": {
   "interpreter": {
    "hash": "ce33b26b0e7fb783383ae7d7b1929cd81c90a4db73d3f1d9be825a6a4cd92aef"
   }
  },
  "toc": {
   "base_numbering": 1,
   "nav_menu": {},
   "number_sections": true,
   "sideBar": true,
   "skip_h1_title": false,
   "title_cell": "Table of Contents",
   "title_sidebar": "Contents",
   "toc_cell": false,
   "toc_position": {
    "height": "calc(100% - 180px)",
    "left": "10px",
    "top": "150px",
    "width": "359.188px"
   },
   "toc_section_display": true,
   "toc_window_display": true
  }
 },
 "nbformat": 4,
 "nbformat_minor": 4
}
