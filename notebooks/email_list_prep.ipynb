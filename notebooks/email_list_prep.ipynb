{
 "cells": [
  {
   "cell_type": "code",
   "execution_count": 4,
   "metadata": {},
   "outputs": [],
   "source": [
    "import numpy as np\n",
    "import pandas as pd\n",
    "\n",
    "from pandas.api.types import is_string_dtype\n",
    "from pandas.api.types import is_numeric_dtype\n",
    "\n",
    "from ipywidgets import *\n",
    "from IPython.display import clear_output, display\n",
    "\n",
    "CSV_SEPARATOR = ','     # '\\t'\n"
   ]
  },
  {
   "cell_type": "code",
   "execution_count": 5,
   "metadata": {},
   "outputs": [
    {
     "name": "stdout",
     "output_type": "stream",
     "text": [
      "/home/jovyan/notebooks\n"
     ]
    }
   ],
   "source": [
    "#import file_select\n",
    "#fname = file_select.gui_fname()\n",
    "\n",
    "print(os.getcwd())"
   ]
  },
  {
   "cell_type": "code",
   "execution_count": 6,
   "metadata": {},
   "outputs": [
    {
     "name": "stderr",
     "output_type": "stream",
     "text": [
      "/opt/conda/envs/shrm_research/lib/python3.8/site-packages/IPython/core/interactiveshell.py:3165: DtypeWarning: Columns (13,48,53,54,55,56,58,59,60) have mixed types.Specify dtype option on import or set low_memory=False.\n",
      "  has_raised = await self.run_ast_nodes(code_ast.body, cell_name,\n"
     ]
    },
    {
     "data": {
      "text/plain": [
       "302352"
      ]
     },
     "execution_count": 6,
     "metadata": {},
     "output_type": "execute_result"
    }
   ],
   "source": [
    "#df_raw = pd.read_csv (fname.decode(\"utf-8\") , sep=CSV_SEPARATOR)\n",
    "df_raw = pd.read_csv ('./data/All Active Roster.csv' , sep=CSV_SEPARATOR)\n",
    "len(df_raw)"
   ]
  },
  {
   "cell_type": "code",
   "execution_count": 7,
   "metadata": {},
   "outputs": [
    {
     "data": {
      "application/vnd.jupyter.widget-view+json": {
       "model_id": "6677bde29d774375afa924c02c76ba53",
       "version_major": 2,
       "version_minor": 0
      },
      "text/plain": [
       "QgridWidget(grid_options={'fullWidthRows': True, 'syncColumnCellResize': True, 'forceFitColumns': True, 'defau…"
      ]
     },
     "metadata": {},
     "output_type": "display_data"
    }
   ],
   "source": [
    "import qgrid\n",
    "import helpers.keep_records as keep_records\n",
    "\n",
    "MEMBER_ID = 'member_id'\n",
    "MEMBERSHIP_ITEM = 'membership_item'\n",
    "MEMBER_COUNT = 'count'\n",
    "MEMBERSHIP_ITEM_KEEP = 'keep'\n",
    "\n",
    "keep_list = [\n",
    "    \"Affinity Membership\",\n",
    "    \"Corporate Membership\",\n",
    "    \"Corporate Membership-three month extention\",\n",
    "    \"Global Online Comp Membership - 1 Month\",\n",
    "    \"Global Online Comp Membership - 3 Month\",\n",
    "    \"Global Online Comp Membership - 6 Month\",\n",
    "    \"Global Online Membership\",\n",
    "    \"Global Online Membership - 2 Year\",\n",
    "    \"Global Online Membership - 3 Year\",\n",
    "    \"Professional Comp Membership - 1 Month\",\n",
    "    \"Professional Comp Membership - 3 Month\",\n",
    "    \"Professional Comp Membership - 6 Month\",\n",
    "    \"Professional Membership\",\n",
    "    \"Professional Membership - 2 Year\",\n",
    "    \"Professional Membership - 3 Year\",\n",
    "    \"Professional Membership - 6 Month\",\n",
    "    \"SHRM Complimentary Membership - 1 year\",\n",
    "    \"SHRM Life Membership\",\n",
    "    \"SHRM Life Membership Renewal\"\n",
    "    ]\n",
    "\n",
    "\n",
    "#sheet_to_keep = keep_records.show_keep_grid(df_raw, MEMBERSHIP_ITEM, MEMBER_ID, keep_list)\n",
    "#sheet_to_keep\n",
    "\n",
    "#df_possible = keep_records.get_keep_possibilites_df(df_raw, MEMBERSHIP_ITEM, MEMBER_ID, keep_list)\n",
    "#sheet_to_keep\n",
    "\n",
    "df_possible = keep_records.get_keep_possibilites_df(df_raw, MEMBERSHIP_ITEM, MEMBER_ID, keep_list)\n",
    "qgrid_sheet_to_keep = qgrid.show_grid(df_possible, show_toolbar=False)\n",
    "qgrid_sheet_to_keep"
   ]
  },
  {
   "cell_type": "code",
   "execution_count": 8,
   "metadata": {},
   "outputs": [],
   "source": [
    "### qgrid method to convert sheet to df\n",
    "df_keep = qgrid_sheet_to_keep.get_changed_df()"
   ]
  },
  {
   "cell_type": "code",
   "execution_count": 9,
   "metadata": {},
   "outputs": [
    {
     "ename": "NameError",
     "evalue": "name 'assign_title' is not defined",
     "output_type": "error",
     "traceback": [
      "\u001b[0;31m---------------------------------------------------------------------------\u001b[0m",
      "\u001b[0;31mNameError\u001b[0m                                 Traceback (most recent call last)",
      "\u001b[0;32m<ipython-input-9-627fa31592f7>\u001b[0m in \u001b[0;36m<module>\u001b[0;34m\u001b[0m\n\u001b[0;32m----> 1\u001b[0;31m \u001b[0mdf_raw\u001b[0m \u001b[0;34m=\u001b[0m \u001b[0massign_title\u001b[0m\u001b[0;34m(\u001b[0m\u001b[0mdf_raw\u001b[0m\u001b[0;34m)\u001b[0m\u001b[0;34m\u001b[0m\u001b[0;34m\u001b[0m\u001b[0m\n\u001b[0m",
      "\u001b[0;31mNameError\u001b[0m: name 'assign_title' is not defined"
     ]
    }
   ],
   "source": [
    "df_raw = assign_title(df_raw)"
   ]
  }
 ],
 "metadata": {
  "kernelspec": {
   "display_name": "Python 3",
   "language": "python",
   "name": "python3"
  },
  "language_info": {
   "codemirror_mode": {
    "name": "ipython",
    "version": 3
   },
   "file_extension": ".py",
   "mimetype": "text/x-python",
   "name": "python",
   "nbconvert_exporter": "python",
   "pygments_lexer": "ipython3",
   "version": "3.8.8"
  },
  "metadata": {
   "interpreter": {
    "hash": "ce33b26b0e7fb783383ae7d7b1929cd81c90a4db73d3f1d9be825a6a4cd92aef"
   }
  }
 },
 "nbformat": 4,
 "nbformat_minor": 4
}
