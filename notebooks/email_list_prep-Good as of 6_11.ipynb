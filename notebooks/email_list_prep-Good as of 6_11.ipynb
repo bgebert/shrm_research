{
 "cells": [
  {
   "cell_type": "markdown",
   "metadata": {
    "heading_collapsed": true
   },
   "source": [
    "# Load libraries and data"
   ]
  },
  {
   "cell_type": "code",
   "execution_count": 1,
   "metadata": {
    "code_folding": [
     0,
     63,
     70,
     89,
     111,
     120,
     216
    ],
    "hidden": true
   },
   "outputs": [
    {
     "name": "stdout",
     "output_type": "stream",
     "text": [
      "Notebook initialized.\n"
     ]
    }
   ],
   "source": [
    "### Load libraries \n",
    "import os\n",
    "import numpy as np\n",
    "import pandas as pd\n",
    "\n",
    "from pandas.api.types import is_string_dtype\n",
    "from pandas.api.types import is_numeric_dtype\n",
    "\n",
    "from ipywidgets import *\n",
    "from IPython.display import clear_output, display\n",
    "from IPython.core.display import display, HTML\n",
    "from IPython.core.interactiveshell import InteractiveShell\n",
    "InteractiveShell.ast_node_interactivity = \"all\"\n",
    "\n",
    "import warnings\n",
    "warnings.filterwarnings(\"ignore\")\n",
    "warnings.simplefilter(action='ignore', category=FutureWarning)\n",
    "\n",
    "import qgrid\n",
    "from traitlets import All\n",
    "\n",
    "import helpers.research_helpers as app\n",
    "\n",
    "from collections import OrderedDict\n",
    "\n",
    "\"\"\"\n",
    "CSV_SEPARATOR = ','     # '\\t'\n",
    "\n",
    "dict_filter_by = {}     # Used by keep_grid_show_filter\n",
    "\n",
    "COL_COUNT = 'count'\n",
    "COL_KEEP = 'keep'\n",
    "\n",
    "COL_EMAIL = 'email'\n",
    "COL_EXPIRY_DATE = 'expiration_date'\n",
    "COL_EXPIRY_RANGE_CALCULATED = 'expiration_range_calculated'\n",
    "COL_MEMBER_ID = 'member_id'\n",
    "COL_MEMBERSHIP_ITEM = 'membership_item'\n",
    "\n",
    "COL_EMAIL_DOMAIN = 'email_domain'\n",
    "COL_INDUSTRY = 'industry'\n",
    "COL_ORG_TYPE = 'organization_type'\n",
    "COL_PUB_PRIVATE_CALCULATED = 'pub_private_calculated'\n",
    "\n",
    "COL_JOB_TITLE = 'job_title'\n",
    "COL_BOSS_TITLE = 'supervisor_title'\n",
    "COL_NUM_OVERSEEN = 'employee_oversee'\n",
    "COL_TITLE_CALCULATED = 'title_calculated'\n",
    "\n",
    "COL_REGION_CALCULATED = 'region_calculated'\n",
    "COL_LOCATION_CALCULATED = 'location_calculated'\n",
    "\n",
    "EXPIRED_IN_MORE_THAN_180 = '(1) Expired more than 180 days'\n",
    "EXPIRED_WITHIN_180 = '(2) Expired within 180 days'\n",
    "EXPIRED_WITHIN_90 = '(3) Expired within 90 days'\n",
    "EXPIRED_WITHIN_30 = '(4) Expired within 30 days'\n",
    "EXPIRES_WITHIN_30 = '(5) Expires within 30 days'\n",
    "EXPIRES_WITHIN_90 = '(6) Expires within 90 days'\n",
    "EXPIRES_WITHIN_180 = '(7) Expires within 180 days'\n",
    "EXPIRES_IN_MORE_THAN_180 = '(8) Expires in more than 180'\n",
    "\n",
    "KEEP_LIST_SURVEY_DIRS = []\n",
    "\n",
    "KEEP_LIST_EXPIRES_IN = [\n",
    "    EXPIRES_WITHIN_30,\n",
    "    EXPIRES_WITHIN_90,\n",
    "    EXPIRES_WITHIN_180,\n",
    "    EXPIRES_IN_MORE_THAN_180\n",
    "    ]\n",
    "\n",
    "KEEP_LIST_JOB_TITLES = [\n",
    "    \"\",\n",
    "    \"Administrative Assistant \",\n",
    "    \"Administrator\",\n",
    "    \"Asst. or Assoc. Vice Pres\",\n",
    "    \"CHRO, CHCO\",\n",
    "    \"Coordinator\",\n",
    "    \"Director or Asst/Assoc Director\",\n",
    "    \"Legal Counsel\",\n",
    "    \"Manager, Generalist\",\n",
    "    \"Other\",\n",
    "    \"Partner, Principal\",\n",
    "    \"President, CEO, Chairman\",\n",
    "    \"Representative, Associate\",\n",
    "    \"Specialist\",\n",
    "    \"Supervisor\",\n",
    "    \"VP or Asst/Assoc VP\"\n",
    "    ]\n",
    "\n",
    "KEEP_LIST_MEMBERSHIP_ITEMS = [\n",
    "    \"Affinity Membership\",\n",
    "    \"Corporate Membership\",\n",
    "    \"Corporate Membership-three month extention\",\n",
    "    \"Global Online Comp Membership - 1 Month\",\n",
    "    \"Global Online Comp Membership - 3 Month\",\n",
    "    \"Global Online Comp Membership - 6 Month\",\n",
    "    \"Global Online Membership\",\n",
    "    \"Global Online Membership - 2 Year\",\n",
    "    \"Global Online Membership - 3 Year\",\n",
    "    \"Professional Comp Membership - 1 Month\",\n",
    "    \"Professional Comp Membership - 3 Month\",\n",
    "    \"Professional Comp Membership - 6 Month\",\n",
    "    \"Professional Membership\",\n",
    "    \"Professional Membership - 2 Year\",\n",
    "    \"Professional Membership - 3 Year\",\n",
    "    \"Professional Membership - 6 Month\",\n",
    "    \"SHRM Complimentary Membership - 1 year\",\n",
    "    \"SHRM Life Membership\",\n",
    "    \"SHRM Life Membership Renewal\"\n",
    "    ]\n",
    "\n",
    "KEEP_LIST_REGIONS = [\n",
    "    \"\",\n",
    "    \"Northeast\",\n",
    "    \"South\",\n",
    "    \"Midwest\",\n",
    "    \"West\"\n",
    "    ]\n",
    "\n",
    "    \n",
    "def column_select_REMOVE_ME(option_array, selection = None):\n",
    "    if selection:\n",
    "        dd = widgets.Dropdown(\n",
    "            options=option_array,\n",
    "            value=selection,\n",
    "            description='Please Select',\n",
    "            disabled=False,\n",
    "        )\n",
    "    else:\n",
    "        dd = widgets.Dropdown(\n",
    "            options=option_array,\n",
    "            description='Please Select',\n",
    "            disabled=False,\n",
    "        )\n",
    "    \n",
    "    return dd\n",
    "\n",
    "def keep_grid_show_filter_REMOVE_ME(df, column_to_group_by, column_to_count, keep_array, bkeep_all = False):\n",
    "    action_name  = column_to_group_by + '_'\n",
    "\n",
    "    #dict_filter_by = {}\n",
    "    dict_filter_by[action_name + 'label'] = widgets.HTML()\n",
    "    dict_filter_by[action_name + 'label'].value = '<center><h3>Your current record count is <u>{}</u></h3></center>'.format(len(df))\n",
    "    dict_filter_by[action_name + 'results_widgets'] = widgets.HBox([dict_filter_by[action_name + 'label']])\n",
    "\n",
    "    def handle_all_events(event, qgrid_widget):\n",
    "        df_testing = keep_grid_apply_filter(dict_filter_by[action_name + 'qgrid_sheet_to_keep'], column_to_group_by, df)\n",
    "        dict_filter_by[qgrid_widget.action_name + 'label'].value = '<h3>Your possible record count is <b><u>{}</u></b> out of <u>{}</u></h3>'.format(len(df_testing), len(df))\n",
    "\n",
    "    # Allow user's to select which groups, if any, they want to keep\n",
    "    dict_filter_by[action_name + 'qgrid_sheet_to_keep'] = __keep_grid_show_filter(df, column_to_group_by, column_to_count, keep_array)\n",
    "    setattr(dict_filter_by[action_name + 'qgrid_sheet_to_keep'], 'action_name', action_name)\n",
    "    handle_all_events(None, dict_filter_by[action_name + 'qgrid_sheet_to_keep'])\n",
    "\n",
    "    dict_filter_by[action_name + 'qgrid_sheet_to_keep'].on('cell_edited', handle_all_events)\n",
    "    dict_filter_by[action_name + 'dashboard'] = widgets.VBox([dict_filter_by[action_name + 'results_widgets'], dict_filter_by[action_name + 'qgrid_sheet_to_keep']])\n",
    "    display(dict_filter_by[action_name + 'dashboard'])\n",
    "\n",
    "    return dict_filter_by[action_name + 'qgrid_sheet_to_keep']\n",
    "\n",
    "def __keep_grid_show_filter_REMOVE_ME(df, column_to_group_by, column_to_count, keep_array, bkeep_all = False):\n",
    "    msg_html = '<h1>Important:</h1></br><b>Please examine the list below and check/uncheck any record types you do not wish to use.</br></br>NOTE: </b><span>The default keep list has already been pre-selected.</span>'\n",
    "    display(HTML(msg_html))\n",
    "    \n",
    "    if column_to_count is None:\n",
    "        df_possible = df\n",
    "        df_possible = df_possible.reset_index()\n",
    "    else:\n",
    "        df[column_to_group_by] = df[column_to_group_by].fillna('')\n",
    "        df_possible = df.groupby(column_to_group_by)[column_to_count].nunique()\n",
    "        df_possible = df_possible.reset_index()\n",
    "        df_possible = df_possible.rename(columns={column_to_count: COL_COUNT})\n",
    "\n",
    "    if keep_array is None:\n",
    "        df_possible = df_possible.sort_values([column_to_group_by], ascending = (True))\n",
    "    else:\n",
    "        df_possible[COL_KEEP] = False               # set default value to False\n",
    "        df_possible.astype({COL_KEEP: 'bool'}).dtypes\n",
    "        # update 'keep' column based on presence of MEMBERSHIP_ITEM in keep list\n",
    "        for i, row in df_possible.iterrows():\n",
    "            bKeep = False\n",
    "            if row[column_to_group_by] in keep_array:\n",
    "                bKeep = True\n",
    "            if bkeep_all:\n",
    "                bKeep = True\n",
    "            df_possible.at[i,COL_KEEP] = bKeep\n",
    "\n",
    "        df_possible = df_possible.sort_values([COL_KEEP, column_to_group_by], ascending = (True, True))\n",
    "        \n",
    "    #sheet_keep = from_dataframe(df_possible)\n",
    "    #return sheet_keep\n",
    "\n",
    "    qgrid_widget = qgrid.show_grid(df_possible, show_toolbar=False, grid_options={\"maxVisibleRows\": 10})\n",
    "    return qgrid_widget\n",
    "\n",
    "def keep_grid_apply_filter_REMOVE_ME(qgrid_sheet_to_keep, col_name, df, bShowUpdate=False):\n",
    "    ### Apply filtering\n",
    "    ### qgrid method to convert sheet to df\n",
    "    df_filter_by = qgrid_sheet_to_keep.get_changed_df()\n",
    "    df_filter_by = df_filter_by[df_filter_by[COL_KEEP] == True]\n",
    "\n",
    "    arr_keep = df_filter_by[col_name].tolist()\n",
    "    \n",
    "    len_before_filter = len(df)\n",
    "    df_filtered_list = df[df[col_name].isin(arr_keep)] \n",
    "    len_after_filter = len(df_filtered_list)\n",
    "\n",
    "    if bShowUpdate:\n",
    "        print('The filter was successfully applied to the data frame.')\n",
    "        print('There are now {} out of {} items available for use.'.format(len_after_filter, len_before_filter))\n",
    "\n",
    "    if bShowUpdate:\n",
    "        return df_filtered_list, arr_keep\n",
    "    else:\n",
    "        return df_filtered_list\n",
    "\n",
    "def load_csv_REMOVE_ME(file_name):\n",
    "    df = pd.read_csv (file_name , sep=CSV_SEPARATOR)\n",
    "    df.columns= df.columns.str.lower()\n",
    "    \n",
    "    # convert column to datetime\n",
    "    df[COL_EXPIRY_DATE] = pd.to_datetime(df[COL_EXPIRY_DATE])\n",
    "    \n",
    "    #print('There are {} email addresses available for use.'.format(len(df_all_active_roster)))\n",
    "    return df\n",
    "\"\"\"\n",
    "\n",
    "app.OPTIONS_EXISTING_PROJECTS = app.load_existing_projects(app.OPTIONS_EXISTING_PROJECTS)\n",
    "\n",
    "print('Notebook initialized.')"
   ]
  },
  {
   "cell_type": "code",
   "execution_count": 2,
   "metadata": {
    "code_folding": [
     0
    ],
    "hidden": true
   },
   "outputs": [
    {
     "name": "stdout",
     "output_type": "stream",
     "text": [
      "294201 records loaded from ../sampling/Member Lists/all_active.csv\n"
     ]
    }
   ],
   "source": [
    "### Load most recent, cleaned and transformed membership list from '../sampling/Member Lists/all_active.csv' \n",
    "\n",
    "df_complete_list = app.load_csv(os.path.join(app.FLDR_SAMPLING, app.FLDR_MEMBER_LISTS, app.FNAME_ACTIVE_ROSTER_CSV))\n",
    "app.dict_dataframes['Initial list'] = df_complete_list.copy()\n",
    "\n",
    "print(str(len(df_complete_list)) + ' records loaded from ' + os.path.join(app.FLDR_SAMPLING, app.FLDR_MEMBER_LISTS, app.FNAME_ACTIVE_ROSTER_CSV))"
   ]
  },
  {
   "cell_type": "code",
   "execution_count": 3,
   "metadata": {
    "code_folding": [
     0
    ]
   },
   "outputs": [],
   "source": [
    "### Define additional variables which are dependant on the dataset being loaded first \n",
    "\n",
    "app.OPTIONS_CSV_COLUMNS = np.sort(np.array(df_complete_list.columns.unique().tolist()))\n",
    "app.OPTIONS_LOCATIONS = np.sort(np.array(df_complete_list[app.COL_LOCATION_CALCULATED].unique().tolist()))"
   ]
  },
  {
   "cell_type": "markdown",
   "metadata": {
    "heading_collapsed": true
   },
   "source": [
    "# Define existing or new project - New Version"
   ]
  },
  {
   "cell_type": "code",
   "execution_count": null,
   "metadata": {},
   "outputs": [],
   "source": []
  },
  {
   "cell_type": "code",
   "execution_count": 4,
   "metadata": {
    "code_folding": []
   },
   "outputs": [],
   "source": [
    "# Required Functions \n",
    "\n",
    "def on_new_existing_clicked(btn):\n",
    "    print(btn)\n",
    "    print('function: on_new_existing_clicked(btn)')\n",
    "\n",
    "                              # option_array, selection = None, new_option = None, label = 'Please Select'\n",
    "def build_dropdown_widgets(key, option_array, option_selected, label, on_click_callback=None, dict_filter_by=None):\n",
    "    dropdown = app.build_dropdown(option_array, option_selected, label)\n",
    "    go_btn = widgets.Button(value=\"new_existing\", description=\"Go | {}\".format(key), layout=widgets.Layout(width=\"500px\"))\n",
    "    go_btn.on_click(on_click_callback)\n",
    "\n",
    "    toolbar_hbox = widgets.HBox(children=[dropdown, go_btn])\n",
    "\n",
    "    if dict_filter_by is not None:\n",
    "        dict_filter_by[key + '_dropdown'] = dropdown\n",
    "\n",
    "    return toolbar_hbox\n",
    "\n",
    "def __remove_prev_samples(df_left, base_path, folder_name, filename): \n",
    "    #print(os.path.join(base_path, folder_name, filename))\n",
    "    # 1. load file into df\n",
    "    df_sample = pd.read_csv (os.path.join(base_path, folder_name, filename) , sep=app.CSV_SEPARATOR, header='infer')\n",
    "    # 2. convert column names to lower case\n",
    "    df_sample.columns=df_sample.columns.str.lower()\n",
    "    # 3. rename variations of 'email' to simply 'email'\n",
    "    df_sample.rename(columns={\"email_addr\": \"email\", \"email_address\": \"email\", \"emailaddr\": \"email\"}, inplace = True)\n",
    "    # 3.x drop all other colums\n",
    "    df_temp = pd.DataFrame(columns=['email'])\n",
    "    df_temp['email'] = df_sample['email']\n",
    "    # 3.x add new column called 'prev_sampled' and set value to 1\n",
    "    df_temp['prev_sample'] = 1\n",
    "    # 3.x pd.merge(left=df_left, right=df_right, how='left', left_on='email', right_on='email')\n",
    "    df_left = pd.merge(left=df_left, right=df_temp, how='left', left_on='email', right_on='email')\n",
    "    # 3.x drop, or filter out, where 'prev_sampled' == 1\n",
    "    df_left['prev_sample'] = df_left['prev_sample'].fillna(0)\n",
    "    # 4 go back to step and repeat all of step 3 using member_id (IF IT EXISTS)\n",
    "    df_left = df_left[df_left['prev_sample'] == 0]\n",
    "    df_left = df_left.drop(columns=['prev_sample'])\n",
    "    #print(str(len(df_left))) \n",
    "    return df_left\n",
    "\n",
    "def remove_prev_samples(df_complete_list, df_previous_sample_files, dropdown):\n",
    "    count_orig = len(df_complete_list)\n",
    "\n",
    "    for index, row in df_previous_sample_files.iterrows():\n",
    "        df_complete_list = __remove_prev_samples(df_complete_list, app.FLDR_SAMPLING, dropdown.value, row[COL_NEW_EXISTING_FILENAME])\n",
    "\n",
    "    count_new = len(df_complete_list)\n",
    "    print('You started with {:,} possible members.  We removed {:,}.  You have {:,} remaining.'.format(count_orig, (count_orig - count_new), count_new))\n",
    "    \n",
    "    return df_complete_list\n",
    "\n",
    "\n",
    "\n",
    "#app.dict_filter_by[key + '_toolbar_vbox'] = build_dropdown_widgets(key)\n",
    "#display(app.dict_filter_by[key + '_toolbar_vbox'])"
   ]
  },
  {
   "cell_type": "code",
   "execution_count": 38,
   "metadata": {
    "code_folding": [
     32
    ]
   },
   "outputs": [
    {
     "data": {
      "application/vnd.jupyter.widget-view+json": {
       "model_id": "538ce5a94f3a42d0adfa28ef6605715d",
       "version_major": 2,
       "version_minor": 0
      },
      "text/plain": [
       "Tab(children=(VBox(children=(VBox(children=(Dropdown(description='I want to...', layout=Layout(width='50%'), o…"
      ]
     },
     "metadata": {},
     "output_type": "display_data"
    }
   ],
   "source": [
    "# New or Existing Project \n",
    "\n",
    "KEEP_LIST_FILES = np.array([])\n",
    "COL_NEW_EXISTING_FILENAME = 'filename'\n",
    "COL_NEW_EXISTING_MEMBER_ID = 'member_id'\n",
    "\n",
    "def revert_dict_state(revert_key, dict):\n",
    "    dict_dataframes = {}\n",
    "    dict_keys_to_remove = {}\n",
    "    bFoundKey = False\n",
    "    \n",
    "    for key in dict:\n",
    "        if bFoundKey:\n",
    "            dict_keys_to_remove[key] = 1\n",
    "            \n",
    "        if key == revert_key:\n",
    "            bFoundKey = True    \n",
    "\n",
    "    for key in dict_keys_to_remove:\n",
    "        removed_value = dict.pop(key)\n",
    "        print('Removed: {}'.format(key))\n",
    "\n",
    "    return dict\n",
    "\n",
    "\n",
    "def get_dict_keys(dict):\n",
    "    keys = []\n",
    "    for key in dict:\n",
    "        key_text = '{}'.format(key)\n",
    "        key_length = '{:,}'.format(len(dict[key]))\n",
    "        key_length = '{: >7}'.format(key_length)\n",
    "        keys.append('{} | {}'.format(key_length, key_text))\n",
    "    return keys\n",
    "\n",
    "def on_revert_clicked(btn):\n",
    "    with tab.children[4].children[1]:\n",
    "        clear_output()\n",
    "    \n",
    "        if len(app.dict_dataframes) > 1:\n",
    "            dropdown = tab.children[4].children[0].children[0]\n",
    "            app.dict_dataframes = revert_dict_state(dropdown.value.split(' | ')[-1], app.dict_dataframes)\n",
    "            dropdown.options = get_dict_keys(app.dict_dataframes)\n",
    "            return_value = 'Finished reverting values.'\n",
    "        else:\n",
    "            return_value = 'Nothing to do.'\n",
    "    \n",
    "        print(return_value)\n",
    "    \n",
    "    return return_value\n",
    "\n",
    "def grid_show_csv_listings(dropdown_value, dict_filter_by, key = None):\n",
    "    KEEP_LIST_FILES = np.array([])\n",
    "    #KEEP_LIST_FILES = []\n",
    "    if key is None:\n",
    "        key = dropdown_value\n",
    "    \n",
    "    #if dropdown_value != app.OPTIONS_NEW_PROJECT[-1]:\n",
    "    df_new_existing = pd.DataFrame(columns=[COL_NEW_EXISTING_FILENAME, COL_NEW_EXISTING_MEMBER_ID])\n",
    "\n",
    "    dirs = os.scandir(path = app.FLDR_SAMPLING + '/' + dropdown_value)\n",
    "    ndx = 0\n",
    "    for entry in dirs :\n",
    "        #ndx = ndx + 1\n",
    "        if entry.is_file() and entry.name[-4:] == '.csv':\n",
    "            if 'forQualtrics' in entry.name:\n",
    "                KEEP_LIST_FILES = np.append(KEEP_LIST_FILES, entry.name)\n",
    "                #KEEP_LIST_FILES.append(entry.name)\n",
    "\n",
    "            new_row = {COL_NEW_EXISTING_FILENAME:entry.name, COL_NEW_EXISTING_MEMBER_ID:ndx}\n",
    "            df_new_existing = df_new_existing.append(new_row, ignore_index=True)\n",
    "\n",
    "    dict_filter_by[key + '_input_df'] = df_new_existing\n",
    "    dict_filter_by[key + '_keep_list_files'] = KEEP_LIST_FILES\n",
    "    \n",
    "    return app.keep_grid_show_filter(df_new_existing, COL_NEW_EXISTING_FILENAME, app.COL_MEMBER_ID, KEEP_LIST_FILES)\n",
    "\n",
    "def tab_setup_new_existing():\n",
    "    key = 'new_existing'\n",
    "    outputs = {i: widgets.VBox() for i in range(0,3)}\n",
    "    \n",
    "    options_array = app.OPTIONS_EXISTING_PROJECTS.copy()\n",
    "    option_array = np.insert (option_array, 0, app.OPTIONS_NEW_PROJECT[-1])\n",
    "    outputs[0].children = [build_dropdown_widgets(key, option_array, app.OPTIONS_NEW_PROJECT[-1], on_new_existing_clicked, app.dict_filter_by), widgets.Output()]\n",
    "    outputs[1].children = [widgets.VBox(), widgets.Output()]\n",
    "    outputs[2].children = [widgets.VBox(), widgets.Output()]\n",
    "\n",
    "    # add the Output widgets as tab childen\n",
    "    tab_strip = widgets.Tab()\n",
    "    tab_strip.children = list(outputs.values())\n",
    "\n",
    "    for i, title in outputs.items():\n",
    "        if i == 0:\n",
    "            tab_strip.set_title(i, 'New or Existing Proj.')\n",
    "        if i == 1:\n",
    "            tab_strip.set_title(i, 'Filter by...')\n",
    "        if i == 2:\n",
    "            tab_strip.set_title(i, 'Apply Changes')\n",
    "    \n",
    "    return tab_strip\n",
    "\n",
    "def tab_select_new_existing(widget):\n",
    "    key = 'new_existing'\n",
    "    tab_idx_prev = widget['old']\n",
    "    tab_idx = widget['new']\n",
    "    \n",
    "    #if tab_idx == 0:\n",
    "    #    output_widget = tab.children[tab_idx].children[-1]\n",
    "    #else:\n",
    "    #    #print(type(tab.children[tab_idx]))\n",
    "    #    output_widget = tab.children[tab_idx].children[-1]\n",
    "    \n",
    "    #print('-{}-'.format(type(tab.children[tab_idx])))\n",
    "    #print('-{}-'.format(type(tab.children[tab_idx].children[0])))\n",
    "    #print('-{}-'.format(type(tab.children[tab_idx].children[0].children[0])))\n",
    "    #print('-{}-'.format(type()))\n",
    "    \n",
    "    output_widget = tab.children[tab_idx].children[-1]\n",
    "    with output_widget:\n",
    "        if tab_idx != 0:\n",
    "            dropdown_criteria = tab.children[0].children[0].children[0]\n",
    "            #print(dropdown_criteria.value)\n",
    "            #dropdown = tab.children[0].children[0].children[0]\n",
    "        \n",
    "        if tab_idx == 1:\n",
    "            clear_output()\n",
    "            \n",
    "            #dropdown_criteria = tab.children[0].children[0].children[0]\n",
    "            \n",
    "            if dropdown_criteria.value == 'Remove previous samples':\n",
    "                option_array = app.OPTIONS_EXISTING_PROJECTS\n",
    "                #option_array = app.OPTIONS_EXISTING_PROJECTS.copy()\n",
    "                #option_array = np.insert (option_array, 0, app.OPTIONS_NEW_PROJECT[-1])\n",
    "            else:\n",
    "                option_array = app.OPTIONS_CSV_COLUMNS\n",
    "            \n",
    "            \n",
    "            dropdown = tab.children[1].children[0].children[0].options = option_array\n",
    "            \n",
    "            #display(app.build_dropdown(option_array, None, ''))\n",
    "            \n",
    "            #tab.children[0].children[0].children[0].options = ['A', 'B']\n",
    "            #print('-{}-'.format(len(tab.children[tab_idx].children[0].children)))\n",
    "            #print('-{}-'.format(type(tab.children[tab_idx].children[0])))\n",
    "            #print('-{}-'.format(type(tab.children[tab_idx].children[1])))\n",
    "            #print('-{}-'.format(len(tab.children[tab_idx].children[0].children[0].value)))\n",
    "            \n",
    "            #print('-{}-'.format(type(tab.children[tab_idx])))\n",
    "            #print('-{}-'.format(type(tab.children[tab_idx].children[2])))\n",
    "            #print('-{}-'.format(type(tab.children[tab_idx].children[0].children[0])))\n",
    "            \n",
    "        if tab_idx == 2:\n",
    "            clear_output()\n",
    "            \n",
    "            #print('running long function')\n",
    "            #display(tab.children[0].children[0].value)\n",
    "            dropdown = tab.children[1].children[0].children[0]\n",
    "            if dropdown.value != app.OPTIONS_NEW_PROJECT[-1] and dropdown.value != '' and dropdown.value is not None:\n",
    "                pass\n",
    "                #app.dict_filter_by[key + '_qgrid_sheet_to_keep'] = grid_show_csv_listings(dropdown.value, app.dict_filter_by, key)\n",
    "                \n",
    "                #new_existing_vbox.children += (new_existing_important_msg_hbox,)\n",
    "                #grid_new_existing = grid_show_csv_listings(dropdown.value)\n",
    "                #grid_show_csv_listings(dropdown.value)\n",
    "                \n",
    "            if dropdown_criteria.value == 'Remove previous samples':\n",
    "                #grid_show_csv_listings(dropdown.value, app.dict_filter_by, key)\n",
    "\n",
    "                KEEP_LIST_FILES = np.array([])\n",
    "                df_new_existing = pd.DataFrame(columns=[COL_NEW_EXISTING_FILENAME, COL_NEW_EXISTING_MEMBER_ID])\n",
    "                dirs = os.scandir(path = app.FLDR_SAMPLING + '/' + dropdown.value)\n",
    "                ndx = 0\n",
    "                for entry in dirs :\n",
    "                    #ndx = ndx + 1\n",
    "                    if entry.is_file() and entry.name[-4:] == '.csv':\n",
    "                        if 'forQualtrics' in entry.name:\n",
    "                            KEEP_LIST_FILES = np.append(KEEP_LIST_FILES, entry.name)\n",
    "                            #KEEP_LIST_FILES.append(entry.name)\n",
    "\n",
    "                        new_row = {COL_NEW_EXISTING_FILENAME:entry.name, COL_NEW_EXISTING_MEMBER_ID:ndx}\n",
    "                        df_new_existing = df_new_existing.append(new_row, ignore_index=True)\n",
    "\n",
    "                app.dict_filter_by['remove_samples_input_df'] = df_new_existing\n",
    "                app.grid_work_do = app.keep_grid_show_filter(df_new_existing, COL_NEW_EXISTING_FILENAME, app.COL_MEMBER_ID, KEEP_LIST_FILES)\n",
    "                #app.keep_grid_show_filter(df_new_existing, COL_NEW_EXISTING_FILENAME, app.COL_MEMBER_ID, KEEP_LIST_FILES)\n",
    "                #tab.children[2].children[0].children += (app.keep_grid_show_filter(df_new_existing, COL_NEW_EXISTING_FILENAME, app.COL_MEMBER_ID, KEEP_LIST_FILES),)\n",
    "\n",
    "            else:\n",
    "                #print(type(app.dict_dataframes[list(app.dict_dataframes)[-1]]))\n",
    "                #print(app.dict_dataframes[list(app.dict_dataframes)[-1]])\n",
    "                #print(app.dict_dataframes[list(app.dict_dataframes)[-1]].columns)\n",
    "                #                                                (df, column_to_group_by, column_to_count, keep_array, bkeep_all = False)\n",
    "                #qgrid_filter_by_item = \n",
    "                app.grid_work_do = app.keep_grid_show_filter(app.dict_dataframes[list(app.dict_dataframes)[-1]], dropdown.value, app.COL_MEMBER_ID, app.get_keep_list(dropdown.value))\n",
    "            \n",
    "            #clear_output()\n",
    "            #print(value)\n",
    "            \n",
    "        if tab_idx == 3:\n",
    "            clear_output()\n",
    "            \n",
    "            import types\n",
    "\n",
    "            def dump_obj(obj, level=0):\n",
    "                for key, value in obj.__dict__.items():\n",
    "                    if not isinstance(value, type):\n",
    "                         print(\" \" * level + \"%s -> %s\" % (key, value))\n",
    "                    else:\n",
    "                        dump_obj(value, level + 2)\n",
    "            \n",
    "            #dump_obj(tab.children[2].children[0])\n",
    "            \n",
    "            #print('-{}-'.format(len(tab.children[2].children)))\n",
    "            #print('-{}-'.format(type(tab.children[2].children[0].children[0])))\n",
    "            #print('-{}-'.format(len(tab.children[2].children[0].children)))\n",
    "            #print('-{}-'.format(len(tab.children[2].children[1].children)))\n",
    "            #print('-{}-'.format(type(tab.children[2].children[0])))\n",
    "            #print('-{}-'.format(type(tab.children[2].children[1])))\n",
    "            #return\n",
    "            \n",
    "            dropdown = tab.children[1].children[0].children[0]\n",
    "            if dropdown_criteria.value == 'Remove previous samples':\n",
    "                #print(type(app.dict_filter_by[key + '_qgrid_sheet_to_keep']))\n",
    "                #print(app.dict_filter_by.keys())\n",
    "                \n",
    "                #app.dict_filter_by[key + '_input_df']\n",
    "                #app.dict_filter_by[key + '_keep_list_files']\n",
    "    \n",
    "                df_previous_sample_files, app.dict_keep_lists[dropdown.value] = app.keep_grid_apply_filter(app.grid_work_do, COL_NEW_EXISTING_FILENAME, app.dict_filter_by['remove_samples_input_df'], True)\n",
    "                print('Please wait while we remove the previous samples from the current dataset...')\n",
    "                df_filtered_list = remove_prev_samples(app.dict_dataframes[list(app.dict_dataframes)[-1]], df_previous_sample_files, dropdown)\n",
    "                #df_filtered_list = remove_prev_samples(app.dict_dataframes['Initial list'], df_previous_sample_files, dropdown)\n",
    "                app.dict_dataframes[dropdown_criteria.value + ' from ' + dropdown.value] = df_filtered_list.copy()\n",
    "            \n",
    "            \n",
    "                #df_filtered_list, app.dict_keep_lists[dd_filter_by_column_item.value] = app.keep_grid_apply_filter(qgrid_filter_by_item, dd_filter_by_column_item.value, app.dict_dataframes[list(app.dict_dataframes)[-1]], True)\n",
    "                #app.dict_dataframes['Filtered by ' + dd_filter_by_column_item.value] = df_filtered_list.copy()\n",
    "\n",
    "            \n",
    "                #df_previous_sample_files, KEEP_LIST_FILES = app.keep_grid_apply_filter(qgrid_new_existing, COL_NEW_EXISTING_FILENAME, df_new_existing, True)\n",
    "                #df_complete_list = remove_prev_samples(df_complete_list, df_previous_sample_files, new_existing_dropdown)\n",
    "                #app.dict_dataframes['Removed samples from current project'] = df_complete_list.copy()\n",
    "            \n",
    "                #print(str(len(app.dict_dataframes['Removed samples from current project'])))\n",
    "                #display('sdfsdf')\n",
    "            else:\n",
    "                df_filtered_list, app.dict_keep_lists[dropdown.value] = app.keep_grid_apply_filter(app.grid_work_do, dropdown.value, app.dict_dataframes[list(app.dict_dataframes)[-1]], True)\n",
    "                app.dict_dataframes[dropdown_criteria.value + ' - ' + dropdown.value] = df_filtered_list.copy()\n",
    "                \n",
    "        if tab_idx == 4:\n",
    "            clear_output()\n",
    "            \n",
    "            tab.children[4].children[0].children[0].options = get_dict_keys(app.dict_dataframes)\n",
    "            #dropdown = tab.children[4].children[0].children[0]\n",
    "            #if len(app.dict_dataframes) > 1:\n",
    "            #    pass\n",
    "            #else:\n",
    "            #    pass\n",
    "            #    #print('Nothing to revert to.')\n",
    "            \n",
    "\n",
    "#tab_strip_new_existing = tab_setup_new_existing()\n",
    "\n",
    "key = 'new_existing'\n",
    "outputs = {i: widgets.VBox() for i in range(0,5)}\n",
    "option_array = app.OPTIONS_EXISTING_PROJECTS.copy()\n",
    "#option_array = np.insert (option_array, 0, app.OPTIONS_NEW_PROJECT[-1])\n",
    "\n",
    "#def dropdown_criteria_eventhandler(change):\n",
    "#    print(change.new)\n",
    "#\n",
    "#dropdown_criteria.observe(dropdown_criteria_eventhandler, names='value')\n",
    "\n",
    "dropdown_criteria = app.build_dropdown(['Remove previous samples', 'Filter on categorical variables'], None, 'I want to...')\n",
    "outputs[0].children = [widgets.VBox(children=[dropdown_criteria]), widgets.Output()]\n",
    "\n",
    "#outputs[1].children = [build_dropdown_widgets(key, [], '', '', on_new_existing_clicked, app.dict_filter_by), widgets.Output()]\n",
    "outputs[1].children = [widgets.VBox(children=[app.build_dropdown(app.OPTIONS_EXISTING_PROJECTS, None, '')]), widgets.Output()]\n",
    "#outputs[0].children = [build_dropdown_widgets(key, option_array, app.OPTIONS_NEW_PROJECT[-1], '', on_new_existing_clicked, app.dict_filter_by), widgets.Output()]\n",
    "outputs[2].children = [widgets.VBox(), widgets.Output()]\n",
    "outputs[3].children = [widgets.VBox(), widgets.Output()]\n",
    "\n",
    "revert_btn = widgets.Button(value=\"revert\", description=\"Revert to Previous State\", layout=widgets.Layout(width=\"500px\"))\n",
    "revert_btn.on_click(on_revert_clicked)\n",
    "outputs[4].children = [widgets.HBox(children=[app.build_dropdown([], None, ''), revert_btn]), widgets.Output()]\n",
    "\n",
    "# add the Output widgets as tab childen\n",
    "tab = widgets.Tab()\n",
    "tab.children = list(outputs.values())\n",
    "\n",
    "for i, title in outputs.items():\n",
    "    if i == 0:\n",
    "        tab.set_title(i, 'Step 0 - Criteria')\n",
    "    if i == 1:\n",
    "        tab.set_title(i, 'Step 1 - Select')\n",
    "    if i == 2:\n",
    "        tab.set_title(i, 'Step 2 - Filter')\n",
    "    if i == 3:\n",
    "        tab.set_title(i, 'Step 3 - Apply')\n",
    "    if i == 4:\n",
    "        tab.set_title(i, 'View / Undo')\n",
    "\n",
    "tab.observe(tab_select_new_existing, names='selected_index')\n",
    "display(tab)"
   ]
  },
  {
   "cell_type": "code",
   "execution_count": null,
   "metadata": {},
   "outputs": [],
   "source": []
  },
  {
   "cell_type": "markdown",
   "metadata": {},
   "source": [
    "# Define existing or new project"
   ]
  },
  {
   "cell_type": "code",
   "execution_count": null,
   "metadata": {
    "code_folding": [
     0
    ]
   },
   "outputs": [],
   "source": [
    "# New or Existing Project \n",
    "\n",
    "new_existing_dropdown = app.column_select(app.OPTIONS_EXISTING_PROJECTS, app.OPTIONS_NEW_PROJECT[-1], app.OPTIONS_NEW_PROJECT)\n",
    "display(new_existing_dropdown)"
   ]
  },
  {
   "cell_type": "code",
   "execution_count": null,
   "metadata": {
    "code_folding": [
     0
    ]
   },
   "outputs": [],
   "source": [
    "### If NOT <New Project> allow user to select previous samples that should be removed from the master roster list. \n",
    "\n",
    "KEEP_LIST_FILES = np.array([])\n",
    "COL_NEW_EXISTING_FILENAME = 'filename'\n",
    "COL_NEW_EXISTING_MEMBER_ID = 'member_id'\n",
    "\n",
    "if new_existing_dropdown.value != app.OPTIONS_NEW_PROJECT[-1]:\n",
    "    df_new_existing = pd.DataFrame(columns=[COL_NEW_EXISTING_FILENAME, COL_NEW_EXISTING_MEMBER_ID])\n",
    "    \n",
    "    dirs = os.scandir(path = app.FLDR_SAMPLING + '/' + new_existing_dropdown.value)\n",
    "    ndx = 0\n",
    "    for entry in dirs :\n",
    "        #ndx = ndx + 1\n",
    "        if entry.is_file() and entry.name[-4:] == '.csv':\n",
    "            if 'forQualtrics' in entry.name:\n",
    "                KEEP_LIST_FILES = np.append(KEEP_LIST_FILES, entry.name)\n",
    "            \n",
    "            new_row = {COL_NEW_EXISTING_FILENAME:entry.name, COL_NEW_EXISTING_MEMBER_ID:ndx}\n",
    "            df_new_existing = df_new_existing.append(new_row, ignore_index=True)\n",
    "    \n",
    "    qgrid_new_existing = app.keep_grid_show_filter(df_new_existing, COL_NEW_EXISTING_FILENAME, app.COL_MEMBER_ID, KEEP_LIST_FILES)"
   ]
  },
  {
   "cell_type": "markdown",
   "metadata": {
    "code_folding": []
   },
   "source": [
    "## If NOT a &lt;New Project&gt; then apply filtering "
   ]
  },
  {
   "cell_type": "code",
   "execution_count": null,
   "metadata": {
    "code_folding": [
     7,
     30
    ]
   },
   "outputs": [],
   "source": [
    "### If NOT a <New Project> then apply filtering \n",
    "#\n",
    "#To just get the dataframe returned by qgrid_sheet_to_keep, just run the next 2 lines s\n",
    "#df_filter_by = qgrid_sheet_to_keep.get_changed_df()\n",
    "#df_filter_by.head(40)\n",
    "\n",
    "\n",
    "def __remove_prev_samples(df_left, base_path, folder_name, filename): \n",
    "    #print(os.path.join(base_path, folder_name, filename))\n",
    "    # 1. load file into df\n",
    "    df_sample = pd.read_csv (os.path.join(base_path, folder_name, filename) , sep=app.CSV_SEPARATOR, header='infer')\n",
    "    # 2. convert column names to lower case\n",
    "    df_sample.columns=df_sample.columns.str.lower()\n",
    "    # 3. rename variations of 'email' to simply 'email'\n",
    "    df_sample.rename(columns={\"email_addr\": \"email\", \"email_address\": \"email\", \"emailaddr\": \"email\"}, inplace = True)\n",
    "    # 3.x drop all other colums\n",
    "    df_temp = pd.DataFrame(columns=['email'])\n",
    "    df_temp['email'] = df_sample['email']\n",
    "    # 3.x add new column called 'prev_sampled' and set value to 1\n",
    "    df_temp['prev_sample'] = 1\n",
    "    # 3.x pd.merge(left=df_left, right=df_right, how='left', left_on='email', right_on='email')\n",
    "    df_left = pd.merge(left=df_left, right=df_temp, how='left', left_on='email', right_on='email')\n",
    "    # 3.x drop, or filter out, where 'prev_sampled' == 1\n",
    "    df_left['prev_sample'] = df_left['prev_sample'].fillna(0)\n",
    "    # 4 go back to step and repeat all of step 3 using member_id (IF IT EXISTS)\n",
    "    df_left = df_left[df_left['prev_sample'] == 0]\n",
    "    df_left = df_left.drop(columns=['prev_sample'])\n",
    "    #print(str(len(df_left))) \n",
    "    return df_left\n",
    "\n",
    "def remove_prev_samples(df_complete_list, df_previous_sample_files, dropdown):\n",
    "    count_orig = len(df_complete_list)\n",
    "\n",
    "    for index, row in df_previous_sample_files.iterrows():\n",
    "        df_complete_list = __remove_prev_samples(df_complete_list, app.FLDR_SAMPLING, dropdown.value, row[COL_NEW_EXISTING_FILENAME])\n",
    "\n",
    "    count_new = len(df_complete_list)\n",
    "    print('You started with {:,} possible members.  We removed {:,}.  You have {:,} remaining.'.format(count_orig, (count_orig - count_new), count_new))\n",
    "    \n",
    "    return df_complete_list\n",
    "    \n",
    "\n",
    "if new_existing_dropdown.value != app.OPTIONS_NEW_PROJECT[-1]:\n",
    "    df_previous_sample_files, KEEP_LIST_FILES = app.keep_grid_apply_filter(qgrid_new_existing, COL_NEW_EXISTING_FILENAME, df_new_existing, True)\n",
    "    df_complete_list = remove_prev_samples(df_complete_list, df_previous_sample_files, new_existing_dropdown)\n",
    "    app.dict_dataframes['Removed samples from current project'] = df_complete_list.copy()"
   ]
  },
  {
   "cell_type": "markdown",
   "metadata": {},
   "source": [
    "# Undo changes, and revert to previous state"
   ]
  },
  {
   "cell_type": "code",
   "execution_count": 16,
   "metadata": {
    "code_folding": []
   },
   "outputs": [
    {
     "name": "stdout",
     "output_type": "stream",
     "text": [
      "Initial list has 294,201 records.\n",
      "Remove previous samples from 2021 Benchmarking Wave 2 has 258,732 records.\n"
     ]
    },
    {
     "ename": "AttributeError",
     "evalue": "module 'helpers.research_helpers' has no attribute 'column_select'",
     "output_type": "error",
     "traceback": [
      "\u001b[0;31m\u001b[0m",
      "\u001b[0;31mAttributeError\u001b[0mTraceback (most recent call last)",
      "\u001b[0;32m<ipython-input-16-009c90accb4c>\u001b[0m in \u001b[0;36m<module>\u001b[0;34m\u001b[0m\n\u001b[1;32m     16\u001b[0m     \u001b[0;32mfor\u001b[0m \u001b[0mkey\u001b[0m \u001b[0;32min\u001b[0m \u001b[0mapp\u001b[0m\u001b[0;34m.\u001b[0m\u001b[0mdict_dataframes\u001b[0m\u001b[0;34m:\u001b[0m\u001b[0;34m\u001b[0m\u001b[0;34m\u001b[0m\u001b[0m\n\u001b[1;32m     17\u001b[0m         \u001b[0mprint\u001b[0m\u001b[0;34m(\u001b[0m\u001b[0;34m'{} has {:,} records.'\u001b[0m\u001b[0;34m.\u001b[0m\u001b[0mformat\u001b[0m\u001b[0;34m(\u001b[0m\u001b[0mkey\u001b[0m\u001b[0;34m,\u001b[0m \u001b[0mlen\u001b[0m\u001b[0;34m(\u001b[0m\u001b[0mapp\u001b[0m\u001b[0;34m.\u001b[0m\u001b[0mdict_dataframes\u001b[0m\u001b[0;34m[\u001b[0m\u001b[0mkey\u001b[0m\u001b[0;34m]\u001b[0m\u001b[0;34m)\u001b[0m\u001b[0;34m)\u001b[0m\u001b[0;34m)\u001b[0m\u001b[0;34m\u001b[0m\u001b[0;34m\u001b[0m\u001b[0m\n\u001b[0;32m---> 18\u001b[0;31m     \u001b[0mdd_previous\u001b[0m \u001b[0;34m=\u001b[0m \u001b[0mapp\u001b[0m\u001b[0;34m.\u001b[0m\u001b[0mcolumn_select\u001b[0m\u001b[0;34m(\u001b[0m\u001b[0mget_dict_keys\u001b[0m\u001b[0;34m(\u001b[0m\u001b[0mapp\u001b[0m\u001b[0;34m.\u001b[0m\u001b[0mdict_dataframes\u001b[0m\u001b[0;34m)\u001b[0m\u001b[0;34m,\u001b[0m \u001b[0mapp\u001b[0m\u001b[0;34m.\u001b[0m\u001b[0mOPTIONS_PREV_DATAFRAMES\u001b[0m\u001b[0;34m[\u001b[0m\u001b[0;34m-\u001b[0m\u001b[0;36m1\u001b[0m\u001b[0;34m]\u001b[0m\u001b[0;34m,\u001b[0m \u001b[0mapp\u001b[0m\u001b[0;34m.\u001b[0m\u001b[0mOPTIONS_PREV_DATAFRAMES\u001b[0m\u001b[0;34m)\u001b[0m\u001b[0;34m\u001b[0m\u001b[0;34m\u001b[0m\u001b[0m\n\u001b[0m\u001b[1;32m     19\u001b[0m     \u001b[0mdisplay\u001b[0m\u001b[0;34m(\u001b[0m\u001b[0mdd_previous\u001b[0m\u001b[0;34m)\u001b[0m\u001b[0;34m\u001b[0m\u001b[0;34m\u001b[0m\u001b[0m\n\u001b[1;32m     20\u001b[0m \u001b[0;32melse\u001b[0m\u001b[0;34m:\u001b[0m\u001b[0;34m\u001b[0m\u001b[0;34m\u001b[0m\u001b[0m\n",
      "\u001b[0;31mAttributeError\u001b[0m: module 'helpers.research_helpers' has no attribute 'column_select'"
     ]
    }
   ],
   "source": [
    "### Please select from the list below if you want to undo a series of filters \n",
    "\n",
    "def get_dict_keys(dict):\n",
    "    keys = []\n",
    "    for key in dict:\n",
    "        key_text = '{}'.format(key)\n",
    "        key_length = '{:,}'.format(len(dict[key]))\n",
    "        key_length = '{: >7}'.format(key_length)\n",
    "        keys.append('{} | {}'.format(key_length, key_text))\n",
    "    return keys\n",
    "    \n",
    "#for key in app.dict_dataframes:\n",
    "#    print('{} has {:,} records.'.format(key, len(app.dict_dataframes[key])))\n",
    "\n",
    "if len(app.dict_dataframes) > 1:\n",
    "    for key in app.dict_dataframes:\n",
    "        print('{} has {:,} records.'.format(key, len(app.dict_dataframes[key])))\n",
    "    dd_previous = app.column_select(get_dict_keys(app.dict_dataframes), app.OPTIONS_PREV_DATAFRAMES[-1], app.OPTIONS_PREV_DATAFRAMES)\n",
    "    display(dd_previous)\n",
    "else:\n",
    "    print('Nothing to undo.')"
   ]
  },
  {
   "cell_type": "code",
   "execution_count": null,
   "metadata": {
    "code_folding": []
   },
   "outputs": [],
   "source": [
    "### If needed, undo a series of filters) \n",
    "\n",
    "def revert_dict_state(revert_key, dict):\n",
    "    dict_dataframes = {}\n",
    "    dict_keys_to_remove = {}\n",
    "    bFoundKey = False\n",
    "    \n",
    "    for key in dict:\n",
    "        if bFoundKey:\n",
    "            dict_keys_to_remove[key] = 1\n",
    "            \n",
    "        if key == revert_key:\n",
    "            bFoundKey = True    \n",
    "\n",
    "    for key in dict_keys_to_remove:\n",
    "        removed_value = dict.pop(key)\n",
    "        print('Removed: {}'.format(key))\n",
    "\n",
    "    return dict\n",
    "\n",
    "if len(app.dict_dataframes) > 1:\n",
    "    if dd_previous.value != app.OPTIONS_PREV_DATAFRAMES[-1]:\n",
    "        app.dict_dataframes = revert_dict_state(dd_previous.value.split(' | ')[-1], app.dict_dataframes)\n",
    "else:\n",
    "    print('Nothing to do.')"
   ]
  },
  {
   "cell_type": "markdown",
   "metadata": {
    "heading_collapsed": true
   },
   "source": [
    "# Filter by... "
   ]
  },
  {
   "cell_type": "code",
   "execution_count": null,
   "metadata": {
    "code_folding": []
   },
   "outputs": [],
   "source": [
    "### Show drop down with \"membership_item\" pre-selected \n",
    "## NOTE:  Pay attention to the variable \"dd_membership_item\".\n",
    "## This variable is referenced twice in this cell and once in the cell directly following this cell.\n",
    "########################################### \n",
    "\n",
    "dd_filter_by_column_item = app.column_select(app.OPTIONS_CSV_COLUMNS, app.COL_MEMBERSHIP_ITEM)\n",
    "\n",
    "display(dd_filter_by_column_item)"
   ]
  },
  {
   "cell_type": "code",
   "execution_count": null,
   "metadata": {},
   "outputs": [],
   "source": [
    "qgrid_filter_by_item = app.keep_grid_show_filter(app.dict_dataframes[list(app.dict_dataframes)[-1]], dd_filter_by_column_item.value, app.COL_MEMBER_ID, app.get_keep_list(dd_filter_by_column_item.value))"
   ]
  },
  {
   "cell_type": "markdown",
   "metadata": {},
   "source": [
    "## Apply Changes"
   ]
  },
  {
   "cell_type": "code",
   "execution_count": null,
   "metadata": {
    "code_folding": []
   },
   "outputs": [],
   "source": [
    "### Apply filtering \n",
    "#\n",
    "#To just get the dataframe returned by qgrid_sheet_to_keep, just run the next 2 lines s\n",
    "#df_filter_by = qgrid_sheet_to_keep.get_changed_df()\n",
    "#df_filter_by.head(40)\n",
    "\n",
    "df_filtered_list, app.dict_keep_lists[dd_filter_by_column_item.value] = app.keep_grid_apply_filter(qgrid_filter_by_item, dd_filter_by_column_item.value, app.dict_dataframes[list(app.dict_dataframes)[-1]], True)\n",
    "\n",
    "app.dict_dataframes['Filtered by ' + dd_filter_by_column_item.value] = df_filtered_list.copy()\n",
    "\n",
    "print('\\n')\n",
    "print('Repeat step (\"Filter by...\") as many times as needed.')\n",
    "print('If you need to go back to a previous state, go to Step 3')"
   ]
  },
  {
   "cell_type": "markdown",
   "metadata": {
    "heading_collapsed": true
   },
   "source": [
    "# Filter by... membership expiration date range"
   ]
  },
  {
   "cell_type": "code",
   "execution_count": null,
   "metadata": {
    "code_folding": [],
    "hidden": true
   },
   "outputs": [],
   "source": [
    "### Please select those expiration groups you would like to keep. \n",
    "## The default list (keep_records.KEEP_LIST_EXPIRES_IN) is already selected.\n",
    "\n",
    "# Allow user's to select which expiration groups, if any, they want to exclude\n",
    "qgrid_exp_date_range = app.keep_grid_show_filter(df_filtered_membership_item, app.COL_EXPIRY_RANGE_CALCULATED, app.COL_MEMBER_ID, app.KEEP_LIST_EXPIRES_IN)\n",
    "#qgrid_sheet_to_keep"
   ]
  },
  {
   "cell_type": "markdown",
   "metadata": {
    "hidden": true
   },
   "source": [
    "## Apply changes"
   ]
  },
  {
   "cell_type": "code",
   "execution_count": null,
   "metadata": {
    "code_folding": [
     0
    ],
    "hidden": true
   },
   "outputs": [],
   "source": [
    "### Apply filtering \n",
    "#\n",
    "# To just get the dataframe returned by qgrid_sheet_to_keep, just run the next 2 lines s\n",
    "#df_filter_by = qgrid_sheet_to_keep.get_changed_df()\n",
    "#df_filter_by.head(40)\n",
    "\n",
    "df_filtered_exp_date_range, app.KEEP_LIST_EXPIRES_IN = app.keep_grid_apply_filter(qgrid_exp_date_range, app.COL_EXPIRY_RANGE_CALCULATED, df_filtered_membership_item, True)"
   ]
  },
  {
   "cell_type": "markdown",
   "metadata": {
    "heading_collapsed": true
   },
   "source": [
    "# Filter by... job_title"
   ]
  },
  {
   "cell_type": "code",
   "execution_count": null,
   "metadata": {
    "code_folding": [
     0
    ],
    "hidden": true
   },
   "outputs": [],
   "source": [
    "### Please select those job titles you would like to keep. \n",
    "\n",
    "qgrid_job_title = app.keep_grid_show_filter(df_filtered_exp_date_range, app.COL_JOB_TITLE, app.COL_MEMBER_ID, app.KEEP_LIST_JOB_TITLES)"
   ]
  },
  {
   "cell_type": "markdown",
   "metadata": {
    "heading_collapsed": true,
    "hidden": true
   },
   "source": [
    "## Apply changes"
   ]
  },
  {
   "cell_type": "code",
   "execution_count": null,
   "metadata": {
    "code_folding": [],
    "hidden": true
   },
   "outputs": [],
   "source": [
    "### Apply filtering \n",
    "\n",
    "# To just get the dataframe returned by qgrid_sheet_to_keep, just run the next 2 lines s\n",
    "#df_filter_by = qgrid_sheet_to_keep.get_changed_df()\n",
    "#df_filter_by.head(40)\n",
    "\n",
    "df_filtered_job_title, app.KEEP_LIST_JOB_TITLES = app.keep_grid_apply_filter(qgrid_job_title, app.COL_JOB_TITLE, df_filtered_exp_date_range, True)"
   ]
  },
  {
   "cell_type": "markdown",
   "metadata": {},
   "source": [
    "# Filter by... region "
   ]
  },
  {
   "cell_type": "code",
   "execution_count": null,
   "metadata": {
    "code_folding": [
     0
    ]
   },
   "outputs": [],
   "source": [
    "### Please select those regions you would like to keep. \n",
    "\n",
    "qgrid_region = app.keep_grid_show_filter(df_filtered_job_title, app.COL_REGION_CALCULATED, app.COL_MEMBER_ID, app.KEEP_LIST_REGIONS)"
   ]
  },
  {
   "cell_type": "markdown",
   "metadata": {},
   "source": [
    "## Apply changes "
   ]
  },
  {
   "cell_type": "code",
   "execution_count": null,
   "metadata": {
    "code_folding": [
     0
    ]
   },
   "outputs": [],
   "source": [
    "### Apply filtering \n",
    "\n",
    "df_filtered_region, app.KEEP_LIST_REGION = app.keep_grid_apply_filter(qgrid_region, app.COL_REGION_CALCULATED, df_filtered_job_title, True)"
   ]
  },
  {
   "cell_type": "markdown",
   "metadata": {},
   "source": [
    "# Filter by... survey recency"
   ]
  },
  {
   "cell_type": "code",
   "execution_count": null,
   "metadata": {},
   "outputs": [],
   "source": []
  },
  {
   "cell_type": "markdown",
   "metadata": {},
   "source": [
    "## Apply changes"
   ]
  },
  {
   "cell_type": "code",
   "execution_count": null,
   "metadata": {},
   "outputs": [],
   "source": []
  },
  {
   "cell_type": "markdown",
   "metadata": {},
   "source": [
    "# Save output"
   ]
  },
  {
   "cell_type": "markdown",
   "metadata": {},
   "source": [
    "## Get project/directory name"
   ]
  },
  {
   "cell_type": "code",
   "execution_count": null,
   "metadata": {
    "code_folding": [
     0
    ]
   },
   "outputs": [],
   "source": [
    "### What is the name of this project? \n",
    "\n",
    "project_name_lbl = widgets.Label('Project Name: ')\n",
    "project_name_txt = widgets.Text()\n",
    "display(project_name_lbl)\n",
    "display(project_name_txt)"
   ]
  },
  {
   "cell_type": "code",
   "execution_count": null,
   "metadata": {
    "code_folding": [
     0
    ]
   },
   "outputs": [],
   "source": [
    "### Your data will be saved to... \n",
    "project_name_results_lbl = widgets.Label()\n",
    "project_name_results_lbl.value = 'Your data will be saved to ' + app.FLDR_SAMPLING + '/' + project_name_txt.value + '/'\n",
    "display(project_name_results_lbl)"
   ]
  },
  {
   "cell_type": "code",
   "execution_count": null,
   "metadata": {
    "code_folding": []
   },
   "outputs": [],
   "source": [
    "### Create folder in ../sampling/<project_name> \n",
    "\n",
    "new_abs_path = os.path.join(os.getcwd(), app.FLDR_SAMPLING, project_name_txt.value)\n",
    "\n",
    "if os.path.exists(new_abs_path):\n",
    "    print('The project name already exists.')\n",
    "    print('Either create a new project name by rerunning the \"Get project/directory name\" cells, or...')\n",
    "    print('Use the project name as is.  \\n\\nWarning - this may cause issues later!')\n",
    "else:\n",
    "    print('Created project folder in: \\n{}'.format(os.path.join(os.getcwd(), app.FLDR_SAMPLING, project_name_txt.value)))\n",
    "    os.mkdir(new_abs_path)"
   ]
  },
  {
   "cell_type": "markdown",
   "metadata": {},
   "source": [
    "## Determine Sample Size"
   ]
  },
  {
   "cell_type": "code",
   "execution_count": null,
   "metadata": {},
   "outputs": [],
   "source": [
    "seed_value = 4500\n",
    "resp_rate = .03\n",
    "target_complete = 1000\n",
    "#sampSize <- round(if((targetComplete/respRate) < nrow(pool)) targetComplete/respRate else nrow(pool),0)\n",
    "sample_size = round(target_complete / resp_rate if (target_complete / resp_rate) < len(df_filtered_list) else len(df_filtered_list))\n",
    "print(sample_size)\n",
    "#df_sample = df_filtered_list.sample(n = sample_size, replace = False, random_state = seed_value)"
   ]
  },
  {
   "cell_type": "code",
   "execution_count": null,
   "metadata": {},
   "outputs": [],
   "source": []
  },
  {
   "cell_type": "code",
   "execution_count": null,
   "metadata": {
    "code_folding": []
   },
   "outputs": [],
   "source": [
    "## Save project files "
   ]
  },
  {
   "cell_type": "code",
   "execution_count": null,
   "metadata": {
    "code_folding": [
     2
    ]
   },
   "outputs": [],
   "source": [
    "### Save all project files\n",
    "\n",
    "def __get_date(): \n",
    "    now = datetime.now()\n",
    "    return now.strftime(\"%Y-%m-%d\")\n",
    "\n",
    "date_string = __get_date()\n",
    "new_abs_path = os.path.join(os.getcwd(), app.FLDR_SAMPLING, project_name_txt.value)\n",
    "\n",
    "df_complete_list.to_csv(new_abs_path + '/all_active_{}.csv'.format(date_string), header=True, index=False)\n",
    "df_filtered_list.to_csv(new_abs_path + '/filtered_{}.csv'.format(date_string), header=True, index=False)\n",
    "df_sample.to_csv(new_abs_path + '/sample_{}.csv'.format(date_string), header=True, index=False)\n",
    "\n",
    "df_remaining = df_filtered_list.loc[~df_filtered_list[app.COL_MEMBER_ID].isin(df_sample[app.COL_MEMBER_ID])].copy()\n",
    "\n",
    "df_qualtrics = df_sample[app.COL_MEMBER_ID, first_name', 'last_name', app.COL_EMAIL]\n",
    "df_qualtrics.to_csv(new_abs_path + '/full_sample_N{}_forQualtrics_complete_{}.csv'.format(sample_size, date_string), header=True, index=False)\n",
    "\n",
    "time_zone = \"EST\"\n",
    "df_tz = df_sample[df_sample['time_zone'] == time_zone]\n",
    "df_qualtrics = df_tz[app.COL_MEMBER_ID, first_name', 'last_name', app.COL_EMAIL] \n",
    "df_qualtrics.to_csv(new_abs_path + '/sample_{}_N{}_forQualtrics_{}.csv'.format(time_zone, sample_size, date_string), header=True, index=False)\n",
    "\n",
    "time_zone = \"CST\"\n",
    "df_tz = df_sample[df_sample['time_zone'] == time_zone]\n",
    "df_qualtrics = df_tz[app.COL_MEMBER_ID, first_name', 'last_name', app.COL_EMAIL] \n",
    "df_qualtrics.to_csv(new_abs_path + '/sample_{}_N{}_forQualtrics_{}.csv'.format(time_zone, sample_size, date_string), header=True, index=False)\n",
    "\n",
    "time_zone = \"MST\"\n",
    "df_tz = df_sample[df_sample['time_zone'] == time_zone]\n",
    "df_qualtrics = df_tz[app.COL_MEMBER_ID, first_name', 'last_name', app.COL_EMAIL] \n",
    "df_qualtrics.to_csv(new_abs_path + '/sample_{}_N{}_forQualtrics_{}.csv'.format(time_zone, sample_size, date_string), header=True, index=False)\n",
    "\n",
    "time_zone = \"PST\"\n",
    "df_tz = df_sample[df_sample['time_zone'] == time_zone]\n",
    "df_qualtrics = df_tz[app.COL_MEMBER_ID, first_name', 'last_name', app.COL_EMAIL] \n",
    "df_qualtrics.to_csv(new_abs_path + '/sample_{}_N{}_forQualtrics_{}.csv'.format(time_zone, sample_size, date_string), header=True, index=False)\n"
   ]
  },
  {
   "cell_type": "code",
   "execution_count": null,
   "metadata": {},
   "outputs": [],
   "source": []
  }
 ],
 "metadata": {
  "kernelspec": {
   "display_name": "Python 3",
   "language": "python",
   "name": "python3"
  },
  "language_info": {
   "codemirror_mode": {
    "name": "ipython",
    "version": 3
   },
   "file_extension": ".py",
   "mimetype": "text/x-python",
   "name": "python",
   "nbconvert_exporter": "python",
   "pygments_lexer": "ipython3",
   "version": "3.8.8"
  },
  "metadata": {
   "interpreter": {
    "hash": "ce33b26b0e7fb783383ae7d7b1929cd81c90a4db73d3f1d9be825a6a4cd92aef"
   }
  },
  "toc": {
   "base_numbering": 1,
   "nav_menu": {},
   "number_sections": true,
   "sideBar": true,
   "skip_h1_title": false,
   "title_cell": "Table of Contents",
   "title_sidebar": "Contents",
   "toc_cell": false,
   "toc_position": {
    "height": "calc(100% - 180px)",
    "left": "10px",
    "top": "150px",
    "width": "359.188px"
   },
   "toc_section_display": true,
   "toc_window_display": false
  }
 },
 "nbformat": 4,
 "nbformat_minor": 4
}
